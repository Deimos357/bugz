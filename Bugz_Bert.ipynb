{
  "nbformat": 4,
  "nbformat_minor": 0,
  "metadata": {
    "colab": {
      "name": "Bugz_Bert.ipynb",
      "provenance": [],
      "collapsed_sections": [],
      "toc_visible": true,
      "include_colab_link": true
    },
    "kernelspec": {
      "name": "python3",
      "display_name": "Python 3"
    },
    "accelerator": "GPU",
    "widgets": {
      "application/vnd.jupyter.widget-state+json": {
        "5a879b43744b4c66af7c4427d0fdeab1": {
          "model_module": "@jupyter-widgets/controls",
          "model_name": "HBoxModel",
          "state": {
            "_view_name": "HBoxView",
            "_dom_classes": [],
            "_model_name": "HBoxModel",
            "_view_module": "@jupyter-widgets/controls",
            "_model_module_version": "1.5.0",
            "_view_count": null,
            "_view_module_version": "1.5.0",
            "box_style": "",
            "layout": "IPY_MODEL_dae5d2927ec941dfaa70009537d15ae4",
            "_model_module": "@jupyter-widgets/controls",
            "children": [
              "IPY_MODEL_a92944c4d12b4aba891c3721e908c076",
              "IPY_MODEL_407023557ca546b7ac099c398568510c"
            ]
          }
        },
        "dae5d2927ec941dfaa70009537d15ae4": {
          "model_module": "@jupyter-widgets/base",
          "model_name": "LayoutModel",
          "state": {
            "_view_name": "LayoutView",
            "grid_template_rows": null,
            "right": null,
            "justify_content": null,
            "_view_module": "@jupyter-widgets/base",
            "overflow": null,
            "_model_module_version": "1.2.0",
            "_view_count": null,
            "flex_flow": null,
            "width": null,
            "min_width": null,
            "border": null,
            "align_items": null,
            "bottom": null,
            "_model_module": "@jupyter-widgets/base",
            "top": null,
            "grid_column": null,
            "overflow_y": null,
            "overflow_x": null,
            "grid_auto_flow": null,
            "grid_area": null,
            "grid_template_columns": null,
            "flex": null,
            "_model_name": "LayoutModel",
            "justify_items": null,
            "grid_row": null,
            "max_height": null,
            "align_content": null,
            "visibility": null,
            "align_self": null,
            "height": null,
            "min_height": null,
            "padding": null,
            "grid_auto_rows": null,
            "grid_gap": null,
            "max_width": null,
            "order": null,
            "_view_module_version": "1.2.0",
            "grid_template_areas": null,
            "object_position": null,
            "object_fit": null,
            "grid_auto_columns": null,
            "margin": null,
            "display": null,
            "left": null
          }
        },
        "a92944c4d12b4aba891c3721e908c076": {
          "model_module": "@jupyter-widgets/controls",
          "model_name": "IntProgressModel",
          "state": {
            "_view_name": "ProgressView",
            "style": "IPY_MODEL_ba708650f9ef4829b59cabf6c7142eef",
            "_dom_classes": [],
            "description": "Downloading",
            "_model_name": "IntProgressModel",
            "bar_style": "success",
            "max": 213450,
            "_view_module": "@jupyter-widgets/controls",
            "_model_module_version": "1.5.0",
            "value": 213450,
            "_view_count": null,
            "_view_module_version": "1.5.0",
            "orientation": "horizontal",
            "min": 0,
            "description_tooltip": null,
            "_model_module": "@jupyter-widgets/controls",
            "layout": "IPY_MODEL_e5f1607823a340b595aeef841e9db809"
          }
        },
        "407023557ca546b7ac099c398568510c": {
          "model_module": "@jupyter-widgets/controls",
          "model_name": "HTMLModel",
          "state": {
            "_view_name": "HTMLView",
            "style": "IPY_MODEL_126723b3193341a2a06d8ac1195416a0",
            "_dom_classes": [],
            "description": "",
            "_model_name": "HTMLModel",
            "placeholder": "​",
            "_view_module": "@jupyter-widgets/controls",
            "_model_module_version": "1.5.0",
            "value": "100% 213k/213k [00:00&lt;00:00, 828kB/s]",
            "_view_count": null,
            "_view_module_version": "1.5.0",
            "description_tooltip": null,
            "_model_module": "@jupyter-widgets/controls",
            "layout": "IPY_MODEL_0af0e3e80f9343668d2f7b91ab3e6341"
          }
        },
        "ba708650f9ef4829b59cabf6c7142eef": {
          "model_module": "@jupyter-widgets/controls",
          "model_name": "ProgressStyleModel",
          "state": {
            "_view_name": "StyleView",
            "_model_name": "ProgressStyleModel",
            "description_width": "initial",
            "_view_module": "@jupyter-widgets/base",
            "_model_module_version": "1.5.0",
            "_view_count": null,
            "_view_module_version": "1.2.0",
            "bar_color": null,
            "_model_module": "@jupyter-widgets/controls"
          }
        },
        "e5f1607823a340b595aeef841e9db809": {
          "model_module": "@jupyter-widgets/base",
          "model_name": "LayoutModel",
          "state": {
            "_view_name": "LayoutView",
            "grid_template_rows": null,
            "right": null,
            "justify_content": null,
            "_view_module": "@jupyter-widgets/base",
            "overflow": null,
            "_model_module_version": "1.2.0",
            "_view_count": null,
            "flex_flow": null,
            "width": null,
            "min_width": null,
            "border": null,
            "align_items": null,
            "bottom": null,
            "_model_module": "@jupyter-widgets/base",
            "top": null,
            "grid_column": null,
            "overflow_y": null,
            "overflow_x": null,
            "grid_auto_flow": null,
            "grid_area": null,
            "grid_template_columns": null,
            "flex": null,
            "_model_name": "LayoutModel",
            "justify_items": null,
            "grid_row": null,
            "max_height": null,
            "align_content": null,
            "visibility": null,
            "align_self": null,
            "height": null,
            "min_height": null,
            "padding": null,
            "grid_auto_rows": null,
            "grid_gap": null,
            "max_width": null,
            "order": null,
            "_view_module_version": "1.2.0",
            "grid_template_areas": null,
            "object_position": null,
            "object_fit": null,
            "grid_auto_columns": null,
            "margin": null,
            "display": null,
            "left": null
          }
        },
        "126723b3193341a2a06d8ac1195416a0": {
          "model_module": "@jupyter-widgets/controls",
          "model_name": "DescriptionStyleModel",
          "state": {
            "_view_name": "StyleView",
            "_model_name": "DescriptionStyleModel",
            "description_width": "",
            "_view_module": "@jupyter-widgets/base",
            "_model_module_version": "1.5.0",
            "_view_count": null,
            "_view_module_version": "1.2.0",
            "_model_module": "@jupyter-widgets/controls"
          }
        },
        "0af0e3e80f9343668d2f7b91ab3e6341": {
          "model_module": "@jupyter-widgets/base",
          "model_name": "LayoutModel",
          "state": {
            "_view_name": "LayoutView",
            "grid_template_rows": null,
            "right": null,
            "justify_content": null,
            "_view_module": "@jupyter-widgets/base",
            "overflow": null,
            "_model_module_version": "1.2.0",
            "_view_count": null,
            "flex_flow": null,
            "width": null,
            "min_width": null,
            "border": null,
            "align_items": null,
            "bottom": null,
            "_model_module": "@jupyter-widgets/base",
            "top": null,
            "grid_column": null,
            "overflow_y": null,
            "overflow_x": null,
            "grid_auto_flow": null,
            "grid_area": null,
            "grid_template_columns": null,
            "flex": null,
            "_model_name": "LayoutModel",
            "justify_items": null,
            "grid_row": null,
            "max_height": null,
            "align_content": null,
            "visibility": null,
            "align_self": null,
            "height": null,
            "min_height": null,
            "padding": null,
            "grid_auto_rows": null,
            "grid_gap": null,
            "max_width": null,
            "order": null,
            "_view_module_version": "1.2.0",
            "grid_template_areas": null,
            "object_position": null,
            "object_fit": null,
            "grid_auto_columns": null,
            "margin": null,
            "display": null,
            "left": null
          }
        },
        "d0698cfacd6b4ecba7990f4e155de300": {
          "model_module": "@jupyter-widgets/controls",
          "model_name": "HBoxModel",
          "state": {
            "_view_name": "HBoxView",
            "_dom_classes": [],
            "_model_name": "HBoxModel",
            "_view_module": "@jupyter-widgets/controls",
            "_model_module_version": "1.5.0",
            "_view_count": null,
            "_view_module_version": "1.5.0",
            "box_style": "",
            "layout": "IPY_MODEL_ea9a5c69fbfc43da8ad1625e6b020768",
            "_model_module": "@jupyter-widgets/controls",
            "children": [
              "IPY_MODEL_b5d6fbdbcd2a4098b93472f4a506057b",
              "IPY_MODEL_1ea5ff4fd4b6414a8def62fb1a6a0ba7"
            ]
          }
        },
        "ea9a5c69fbfc43da8ad1625e6b020768": {
          "model_module": "@jupyter-widgets/base",
          "model_name": "LayoutModel",
          "state": {
            "_view_name": "LayoutView",
            "grid_template_rows": null,
            "right": null,
            "justify_content": null,
            "_view_module": "@jupyter-widgets/base",
            "overflow": null,
            "_model_module_version": "1.2.0",
            "_view_count": null,
            "flex_flow": null,
            "width": null,
            "min_width": null,
            "border": null,
            "align_items": null,
            "bottom": null,
            "_model_module": "@jupyter-widgets/base",
            "top": null,
            "grid_column": null,
            "overflow_y": null,
            "overflow_x": null,
            "grid_auto_flow": null,
            "grid_area": null,
            "grid_template_columns": null,
            "flex": null,
            "_model_name": "LayoutModel",
            "justify_items": null,
            "grid_row": null,
            "max_height": null,
            "align_content": null,
            "visibility": null,
            "align_self": null,
            "height": null,
            "min_height": null,
            "padding": null,
            "grid_auto_rows": null,
            "grid_gap": null,
            "max_width": null,
            "order": null,
            "_view_module_version": "1.2.0",
            "grid_template_areas": null,
            "object_position": null,
            "object_fit": null,
            "grid_auto_columns": null,
            "margin": null,
            "display": null,
            "left": null
          }
        },
        "b5d6fbdbcd2a4098b93472f4a506057b": {
          "model_module": "@jupyter-widgets/controls",
          "model_name": "IntProgressModel",
          "state": {
            "_view_name": "ProgressView",
            "style": "IPY_MODEL_47fa06f49bba4047930436e4181ed444",
            "_dom_classes": [],
            "description": "Downloading",
            "_model_name": "IntProgressModel",
            "bar_style": "success",
            "max": 939,
            "_view_module": "@jupyter-widgets/controls",
            "_model_module_version": "1.5.0",
            "value": 939,
            "_view_count": null,
            "_view_module_version": "1.5.0",
            "orientation": "horizontal",
            "min": 0,
            "description_tooltip": null,
            "_model_module": "@jupyter-widgets/controls",
            "layout": "IPY_MODEL_605090b886c2424586c69c4f3089be38"
          }
        },
        "1ea5ff4fd4b6414a8def62fb1a6a0ba7": {
          "model_module": "@jupyter-widgets/controls",
          "model_name": "HTMLModel",
          "state": {
            "_view_name": "HTMLView",
            "style": "IPY_MODEL_8ffa40590cbc40848efb5e98f22164b2",
            "_dom_classes": [],
            "description": "",
            "_model_name": "HTMLModel",
            "placeholder": "​",
            "_view_module": "@jupyter-widgets/controls",
            "_model_module_version": "1.5.0",
            "value": "100% 939/939 [00:00&lt;00:00, 46.7kB/s]",
            "_view_count": null,
            "_view_module_version": "1.5.0",
            "description_tooltip": null,
            "_model_module": "@jupyter-widgets/controls",
            "layout": "IPY_MODEL_03587756d6a647b68bf4cc8bebdf0cc3"
          }
        },
        "47fa06f49bba4047930436e4181ed444": {
          "model_module": "@jupyter-widgets/controls",
          "model_name": "ProgressStyleModel",
          "state": {
            "_view_name": "StyleView",
            "_model_name": "ProgressStyleModel",
            "description_width": "initial",
            "_view_module": "@jupyter-widgets/base",
            "_model_module_version": "1.5.0",
            "_view_count": null,
            "_view_module_version": "1.2.0",
            "bar_color": null,
            "_model_module": "@jupyter-widgets/controls"
          }
        },
        "605090b886c2424586c69c4f3089be38": {
          "model_module": "@jupyter-widgets/base",
          "model_name": "LayoutModel",
          "state": {
            "_view_name": "LayoutView",
            "grid_template_rows": null,
            "right": null,
            "justify_content": null,
            "_view_module": "@jupyter-widgets/base",
            "overflow": null,
            "_model_module_version": "1.2.0",
            "_view_count": null,
            "flex_flow": null,
            "width": null,
            "min_width": null,
            "border": null,
            "align_items": null,
            "bottom": null,
            "_model_module": "@jupyter-widgets/base",
            "top": null,
            "grid_column": null,
            "overflow_y": null,
            "overflow_x": null,
            "grid_auto_flow": null,
            "grid_area": null,
            "grid_template_columns": null,
            "flex": null,
            "_model_name": "LayoutModel",
            "justify_items": null,
            "grid_row": null,
            "max_height": null,
            "align_content": null,
            "visibility": null,
            "align_self": null,
            "height": null,
            "min_height": null,
            "padding": null,
            "grid_auto_rows": null,
            "grid_gap": null,
            "max_width": null,
            "order": null,
            "_view_module_version": "1.2.0",
            "grid_template_areas": null,
            "object_position": null,
            "object_fit": null,
            "grid_auto_columns": null,
            "margin": null,
            "display": null,
            "left": null
          }
        },
        "8ffa40590cbc40848efb5e98f22164b2": {
          "model_module": "@jupyter-widgets/controls",
          "model_name": "DescriptionStyleModel",
          "state": {
            "_view_name": "StyleView",
            "_model_name": "DescriptionStyleModel",
            "description_width": "",
            "_view_module": "@jupyter-widgets/base",
            "_model_module_version": "1.5.0",
            "_view_count": null,
            "_view_module_version": "1.2.0",
            "_model_module": "@jupyter-widgets/controls"
          }
        },
        "03587756d6a647b68bf4cc8bebdf0cc3": {
          "model_module": "@jupyter-widgets/base",
          "model_name": "LayoutModel",
          "state": {
            "_view_name": "LayoutView",
            "grid_template_rows": null,
            "right": null,
            "justify_content": null,
            "_view_module": "@jupyter-widgets/base",
            "overflow": null,
            "_model_module_version": "1.2.0",
            "_view_count": null,
            "flex_flow": null,
            "width": null,
            "min_width": null,
            "border": null,
            "align_items": null,
            "bottom": null,
            "_model_module": "@jupyter-widgets/base",
            "top": null,
            "grid_column": null,
            "overflow_y": null,
            "overflow_x": null,
            "grid_auto_flow": null,
            "grid_area": null,
            "grid_template_columns": null,
            "flex": null,
            "_model_name": "LayoutModel",
            "justify_items": null,
            "grid_row": null,
            "max_height": null,
            "align_content": null,
            "visibility": null,
            "align_self": null,
            "height": null,
            "min_height": null,
            "padding": null,
            "grid_auto_rows": null,
            "grid_gap": null,
            "max_width": null,
            "order": null,
            "_view_module_version": "1.2.0",
            "grid_template_areas": null,
            "object_position": null,
            "object_fit": null,
            "grid_auto_columns": null,
            "margin": null,
            "display": null,
            "left": null
          }
        },
        "dde13490869747d583a8df9afb83fcb2": {
          "model_module": "@jupyter-widgets/controls",
          "model_name": "HBoxModel",
          "state": {
            "_view_name": "HBoxView",
            "_dom_classes": [],
            "_model_name": "HBoxModel",
            "_view_module": "@jupyter-widgets/controls",
            "_model_module_version": "1.5.0",
            "_view_count": null,
            "_view_module_version": "1.5.0",
            "box_style": "",
            "layout": "IPY_MODEL_a73f44e29cfa4c4184397812843ac3ae",
            "_model_module": "@jupyter-widgets/controls",
            "children": [
              "IPY_MODEL_06a2a0b4db364e81ad0088df5787d18c",
              "IPY_MODEL_9c8151d385e14aa198c1c5920cbc5011"
            ]
          }
        },
        "a73f44e29cfa4c4184397812843ac3ae": {
          "model_module": "@jupyter-widgets/base",
          "model_name": "LayoutModel",
          "state": {
            "_view_name": "LayoutView",
            "grid_template_rows": null,
            "right": null,
            "justify_content": null,
            "_view_module": "@jupyter-widgets/base",
            "overflow": null,
            "_model_module_version": "1.2.0",
            "_view_count": null,
            "flex_flow": null,
            "width": null,
            "min_width": null,
            "border": null,
            "align_items": null,
            "bottom": null,
            "_model_module": "@jupyter-widgets/base",
            "top": null,
            "grid_column": null,
            "overflow_y": null,
            "overflow_x": null,
            "grid_auto_flow": null,
            "grid_area": null,
            "grid_template_columns": null,
            "flex": null,
            "_model_name": "LayoutModel",
            "justify_items": null,
            "grid_row": null,
            "max_height": null,
            "align_content": null,
            "visibility": null,
            "align_self": null,
            "height": null,
            "min_height": null,
            "padding": null,
            "grid_auto_rows": null,
            "grid_gap": null,
            "max_width": null,
            "order": null,
            "_view_module_version": "1.2.0",
            "grid_template_areas": null,
            "object_position": null,
            "object_fit": null,
            "grid_auto_columns": null,
            "margin": null,
            "display": null,
            "left": null
          }
        },
        "06a2a0b4db364e81ad0088df5787d18c": {
          "model_module": "@jupyter-widgets/controls",
          "model_name": "IntProgressModel",
          "state": {
            "_view_name": "ProgressView",
            "style": "IPY_MODEL_ffca19d8b6d6425cbf0b34363bce513a",
            "_dom_classes": [],
            "description": "Downloading",
            "_model_name": "IntProgressModel",
            "bar_style": "success",
            "max": 263273408,
            "_view_module": "@jupyter-widgets/controls",
            "_model_module_version": "1.5.0",
            "value": 263273408,
            "_view_count": null,
            "_view_module_version": "1.5.0",
            "orientation": "horizontal",
            "min": 0,
            "description_tooltip": null,
            "_model_module": "@jupyter-widgets/controls",
            "layout": "IPY_MODEL_61564ce3997f4ebea43260efb040dd9c"
          }
        },
        "9c8151d385e14aa198c1c5920cbc5011": {
          "model_module": "@jupyter-widgets/controls",
          "model_name": "HTMLModel",
          "state": {
            "_view_name": "HTMLView",
            "style": "IPY_MODEL_7d45f5ed5cce4f13a8292733eade5812",
            "_dom_classes": [],
            "description": "",
            "_model_name": "HTMLModel",
            "placeholder": "​",
            "_view_module": "@jupyter-widgets/controls",
            "_model_module_version": "1.5.0",
            "value": "100% 263M/263M [00:09&lt;00:00, 29.0MB/s]",
            "_view_count": null,
            "_view_module_version": "1.5.0",
            "description_tooltip": null,
            "_model_module": "@jupyter-widgets/controls",
            "layout": "IPY_MODEL_708ddc74947446698a025efc8ac395e0"
          }
        },
        "ffca19d8b6d6425cbf0b34363bce513a": {
          "model_module": "@jupyter-widgets/controls",
          "model_name": "ProgressStyleModel",
          "state": {
            "_view_name": "StyleView",
            "_model_name": "ProgressStyleModel",
            "description_width": "initial",
            "_view_module": "@jupyter-widgets/base",
            "_model_module_version": "1.5.0",
            "_view_count": null,
            "_view_module_version": "1.2.0",
            "bar_color": null,
            "_model_module": "@jupyter-widgets/controls"
          }
        },
        "61564ce3997f4ebea43260efb040dd9c": {
          "model_module": "@jupyter-widgets/base",
          "model_name": "LayoutModel",
          "state": {
            "_view_name": "LayoutView",
            "grid_template_rows": null,
            "right": null,
            "justify_content": null,
            "_view_module": "@jupyter-widgets/base",
            "overflow": null,
            "_model_module_version": "1.2.0",
            "_view_count": null,
            "flex_flow": null,
            "width": null,
            "min_width": null,
            "border": null,
            "align_items": null,
            "bottom": null,
            "_model_module": "@jupyter-widgets/base",
            "top": null,
            "grid_column": null,
            "overflow_y": null,
            "overflow_x": null,
            "grid_auto_flow": null,
            "grid_area": null,
            "grid_template_columns": null,
            "flex": null,
            "_model_name": "LayoutModel",
            "justify_items": null,
            "grid_row": null,
            "max_height": null,
            "align_content": null,
            "visibility": null,
            "align_self": null,
            "height": null,
            "min_height": null,
            "padding": null,
            "grid_auto_rows": null,
            "grid_gap": null,
            "max_width": null,
            "order": null,
            "_view_module_version": "1.2.0",
            "grid_template_areas": null,
            "object_position": null,
            "object_fit": null,
            "grid_auto_columns": null,
            "margin": null,
            "display": null,
            "left": null
          }
        },
        "7d45f5ed5cce4f13a8292733eade5812": {
          "model_module": "@jupyter-widgets/controls",
          "model_name": "DescriptionStyleModel",
          "state": {
            "_view_name": "StyleView",
            "_model_name": "DescriptionStyleModel",
            "description_width": "",
            "_view_module": "@jupyter-widgets/base",
            "_model_module_version": "1.5.0",
            "_view_count": null,
            "_view_module_version": "1.2.0",
            "_model_module": "@jupyter-widgets/controls"
          }
        },
        "708ddc74947446698a025efc8ac395e0": {
          "model_module": "@jupyter-widgets/base",
          "model_name": "LayoutModel",
          "state": {
            "_view_name": "LayoutView",
            "grid_template_rows": null,
            "right": null,
            "justify_content": null,
            "_view_module": "@jupyter-widgets/base",
            "overflow": null,
            "_model_module_version": "1.2.0",
            "_view_count": null,
            "flex_flow": null,
            "width": null,
            "min_width": null,
            "border": null,
            "align_items": null,
            "bottom": null,
            "_model_module": "@jupyter-widgets/base",
            "top": null,
            "grid_column": null,
            "overflow_y": null,
            "overflow_x": null,
            "grid_auto_flow": null,
            "grid_area": null,
            "grid_template_columns": null,
            "flex": null,
            "_model_name": "LayoutModel",
            "justify_items": null,
            "grid_row": null,
            "max_height": null,
            "align_content": null,
            "visibility": null,
            "align_self": null,
            "height": null,
            "min_height": null,
            "padding": null,
            "grid_auto_rows": null,
            "grid_gap": null,
            "max_width": null,
            "order": null,
            "_view_module_version": "1.2.0",
            "grid_template_areas": null,
            "object_position": null,
            "object_fit": null,
            "grid_auto_columns": null,
            "margin": null,
            "display": null,
            "left": null
          }
        }
      }
    }
  },
  "cells": [
    {
      "cell_type": "markdown",
      "metadata": {
        "id": "view-in-github",
        "colab_type": "text"
      },
      "source": [
        "<a href=\"https://colab.research.google.com/github/Deimos357/bugz/blob/master/Bugz_Bert.ipynb\" target=\"_parent\"><img src=\"https://colab.research.google.com/assets/colab-badge.svg\" alt=\"Open In Colab\"/></a>"
      ]
    },
    {
      "cell_type": "code",
      "metadata": {
        "id": "Y29MDC_dOFRH",
        "colab_type": "code",
        "outputId": "17613ba1-cda9-4a3a-eab8-f8c013335b43",
        "colab": {
          "base_uri": "https://localhost:8080/",
          "height": 646
        }
      },
      "source": [
        "!pip install transformers"
      ],
      "execution_count": 0,
      "outputs": [
        {
          "output_type": "stream",
          "text": [
            "Collecting transformers\n",
            "\u001b[?25l  Downloading https://files.pythonhosted.org/packages/13/33/ffb67897a6985a7b7d8e5e7878c3628678f553634bd3836404fef06ef19b/transformers-2.5.1-py3-none-any.whl (499kB)\n",
            "\r\u001b[K     |▋                               | 10kB 22.1MB/s eta 0:00:01\r\u001b[K     |█▎                              | 20kB 6.5MB/s eta 0:00:01\r\u001b[K     |██                              | 30kB 7.6MB/s eta 0:00:01\r\u001b[K     |██▋                             | 40kB 6.0MB/s eta 0:00:01\r\u001b[K     |███▎                            | 51kB 6.3MB/s eta 0:00:01\r\u001b[K     |████                            | 61kB 7.5MB/s eta 0:00:01\r\u001b[K     |████▋                           | 71kB 7.8MB/s eta 0:00:01\r\u001b[K     |█████▎                          | 81kB 7.5MB/s eta 0:00:01\r\u001b[K     |██████                          | 92kB 8.3MB/s eta 0:00:01\r\u001b[K     |██████▋                         | 102kB 8.6MB/s eta 0:00:01\r\u001b[K     |███████▏                        | 112kB 8.6MB/s eta 0:00:01\r\u001b[K     |███████▉                        | 122kB 8.6MB/s eta 0:00:01\r\u001b[K     |████████▌                       | 133kB 8.6MB/s eta 0:00:01\r\u001b[K     |█████████▏                      | 143kB 8.6MB/s eta 0:00:01\r\u001b[K     |█████████▉                      | 153kB 8.6MB/s eta 0:00:01\r\u001b[K     |██████████▌                     | 163kB 8.6MB/s eta 0:00:01\r\u001b[K     |███████████▏                    | 174kB 8.6MB/s eta 0:00:01\r\u001b[K     |███████████▉                    | 184kB 8.6MB/s eta 0:00:01\r\u001b[K     |████████████▌                   | 194kB 8.6MB/s eta 0:00:01\r\u001b[K     |█████████████▏                  | 204kB 8.6MB/s eta 0:00:01\r\u001b[K     |█████████████▉                  | 215kB 8.6MB/s eta 0:00:01\r\u001b[K     |██████████████▍                 | 225kB 8.6MB/s eta 0:00:01\r\u001b[K     |███████████████                 | 235kB 8.6MB/s eta 0:00:01\r\u001b[K     |███████████████▊                | 245kB 8.6MB/s eta 0:00:01\r\u001b[K     |████████████████▍               | 256kB 8.6MB/s eta 0:00:01\r\u001b[K     |█████████████████               | 266kB 8.6MB/s eta 0:00:01\r\u001b[K     |█████████████████▊              | 276kB 8.6MB/s eta 0:00:01\r\u001b[K     |██████████████████▍             | 286kB 8.6MB/s eta 0:00:01\r\u001b[K     |███████████████████             | 296kB 8.6MB/s eta 0:00:01\r\u001b[K     |███████████████████▊            | 307kB 8.6MB/s eta 0:00:01\r\u001b[K     |████████████████████▍           | 317kB 8.6MB/s eta 0:00:01\r\u001b[K     |█████████████████████           | 327kB 8.6MB/s eta 0:00:01\r\u001b[K     |█████████████████████▋          | 337kB 8.6MB/s eta 0:00:01\r\u001b[K     |██████████████████████▎         | 348kB 8.6MB/s eta 0:00:01\r\u001b[K     |███████████████████████         | 358kB 8.6MB/s eta 0:00:01\r\u001b[K     |███████████████████████▋        | 368kB 8.6MB/s eta 0:00:01\r\u001b[K     |████████████████████████▎       | 378kB 8.6MB/s eta 0:00:01\r\u001b[K     |█████████████████████████       | 389kB 8.6MB/s eta 0:00:01\r\u001b[K     |█████████████████████████▋      | 399kB 8.6MB/s eta 0:00:01\r\u001b[K     |██████████████████████████▎     | 409kB 8.6MB/s eta 0:00:01\r\u001b[K     |███████████████████████████     | 419kB 8.6MB/s eta 0:00:01\r\u001b[K     |███████████████████████████▋    | 430kB 8.6MB/s eta 0:00:01\r\u001b[K     |████████████████████████████▏   | 440kB 8.6MB/s eta 0:00:01\r\u001b[K     |████████████████████████████▉   | 450kB 8.6MB/s eta 0:00:01\r\u001b[K     |█████████████████████████████▌  | 460kB 8.6MB/s eta 0:00:01\r\u001b[K     |██████████████████████████████▏ | 471kB 8.6MB/s eta 0:00:01\r\u001b[K     |██████████████████████████████▉ | 481kB 8.6MB/s eta 0:00:01\r\u001b[K     |███████████████████████████████▌| 491kB 8.6MB/s eta 0:00:01\r\u001b[K     |████████████████████████████████| 501kB 8.6MB/s \n",
            "\u001b[?25hRequirement already satisfied: numpy in /usr/local/lib/python3.6/dist-packages (from transformers) (1.17.5)\n",
            "Requirement already satisfied: boto3 in /usr/local/lib/python3.6/dist-packages (from transformers) (1.11.15)\n",
            "Requirement already satisfied: filelock in /usr/local/lib/python3.6/dist-packages (from transformers) (3.0.12)\n",
            "Collecting sacremoses\n",
            "\u001b[?25l  Downloading https://files.pythonhosted.org/packages/a6/b4/7a41d630547a4afd58143597d5a49e07bfd4c42914d8335b2a5657efc14b/sacremoses-0.0.38.tar.gz (860kB)\n",
            "\u001b[K     |████████████████████████████████| 870kB 21.7MB/s \n",
            "\u001b[?25hRequirement already satisfied: requests in /usr/local/lib/python3.6/dist-packages (from transformers) (2.21.0)\n",
            "Requirement already satisfied: regex!=2019.12.17 in /usr/local/lib/python3.6/dist-packages (from transformers) (2019.12.20)\n",
            "Collecting tokenizers==0.5.2\n",
            "\u001b[?25l  Downloading https://files.pythonhosted.org/packages/d1/3f/73c881ea4723e43c1e9acf317cf407fab3a278daab3a69c98dcac511c04f/tokenizers-0.5.2-cp36-cp36m-manylinux1_x86_64.whl (3.7MB)\n",
            "\u001b[K     |████████████████████████████████| 3.7MB 48.4MB/s \n",
            "\u001b[?25hCollecting sentencepiece\n",
            "\u001b[?25l  Downloading https://files.pythonhosted.org/packages/74/f4/2d5214cbf13d06e7cb2c20d84115ca25b53ea76fa1f0ade0e3c9749de214/sentencepiece-0.1.85-cp36-cp36m-manylinux1_x86_64.whl (1.0MB)\n",
            "\u001b[K     |████████████████████████████████| 1.0MB 51.8MB/s \n",
            "\u001b[?25hRequirement already satisfied: tqdm>=4.27 in /usr/local/lib/python3.6/dist-packages (from transformers) (4.28.1)\n",
            "Requirement already satisfied: s3transfer<0.4.0,>=0.3.0 in /usr/local/lib/python3.6/dist-packages (from boto3->transformers) (0.3.3)\n",
            "Requirement already satisfied: jmespath<1.0.0,>=0.7.1 in /usr/local/lib/python3.6/dist-packages (from boto3->transformers) (0.9.4)\n",
            "Requirement already satisfied: botocore<1.15.0,>=1.14.15 in /usr/local/lib/python3.6/dist-packages (from boto3->transformers) (1.14.15)\n",
            "Requirement already satisfied: six in /usr/local/lib/python3.6/dist-packages (from sacremoses->transformers) (1.12.0)\n",
            "Requirement already satisfied: click in /usr/local/lib/python3.6/dist-packages (from sacremoses->transformers) (7.0)\n",
            "Requirement already satisfied: joblib in /usr/local/lib/python3.6/dist-packages (from sacremoses->transformers) (0.14.1)\n",
            "Requirement already satisfied: chardet<3.1.0,>=3.0.2 in /usr/local/lib/python3.6/dist-packages (from requests->transformers) (3.0.4)\n",
            "Requirement already satisfied: certifi>=2017.4.17 in /usr/local/lib/python3.6/dist-packages (from requests->transformers) (2019.11.28)\n",
            "Requirement already satisfied: urllib3<1.25,>=1.21.1 in /usr/local/lib/python3.6/dist-packages (from requests->transformers) (1.24.3)\n",
            "Requirement already satisfied: idna<2.9,>=2.5 in /usr/local/lib/python3.6/dist-packages (from requests->transformers) (2.8)\n",
            "Requirement already satisfied: python-dateutil<3.0.0,>=2.1 in /usr/local/lib/python3.6/dist-packages (from botocore<1.15.0,>=1.14.15->boto3->transformers) (2.6.1)\n",
            "Requirement already satisfied: docutils<0.16,>=0.10 in /usr/local/lib/python3.6/dist-packages (from botocore<1.15.0,>=1.14.15->boto3->transformers) (0.15.2)\n",
            "Building wheels for collected packages: sacremoses\n",
            "  Building wheel for sacremoses (setup.py) ... \u001b[?25l\u001b[?25hdone\n",
            "  Created wheel for sacremoses: filename=sacremoses-0.0.38-cp36-none-any.whl size=884628 sha256=1ba7c37706b71cb0358a4e540965611a87f017dfda1c6acea18324bbb2324868\n",
            "  Stored in directory: /root/.cache/pip/wheels/6d/ec/1a/21b8912e35e02741306f35f66c785f3afe94de754a0eaf1422\n",
            "Successfully built sacremoses\n",
            "Installing collected packages: sacremoses, tokenizers, sentencepiece, transformers\n",
            "Successfully installed sacremoses-0.0.38 sentencepiece-0.1.85 tokenizers-0.5.2 transformers-2.5.1\n"
          ],
          "name": "stdout"
        }
      ]
    },
    {
      "cell_type": "code",
      "metadata": {
        "id": "f2KNLT9TDFfh",
        "colab_type": "code",
        "outputId": "9623ef76-50fd-41d4-dddf-1451978d4a53",
        "colab": {
          "base_uri": "https://localhost:8080/",
          "height": 187
        }
      },
      "source": [
        "pip install git+https://github.com/ildoonet/pytorch-gradual-warmup-lr.git"
      ],
      "execution_count": 0,
      "outputs": [
        {
          "output_type": "stream",
          "text": [
            "Collecting git+https://github.com/ildoonet/pytorch-gradual-warmup-lr.git\n",
            "  Cloning https://github.com/ildoonet/pytorch-gradual-warmup-lr.git to /tmp/pip-req-build-lrez1odi\n",
            "  Running command git clone -q https://github.com/ildoonet/pytorch-gradual-warmup-lr.git /tmp/pip-req-build-lrez1odi\n",
            "Building wheels for collected packages: warmup-scheduler\n",
            "  Building wheel for warmup-scheduler (setup.py) ... \u001b[?25l\u001b[?25hdone\n",
            "  Created wheel for warmup-scheduler: filename=warmup_scheduler-0.1.1-cp36-none-any.whl size=3641 sha256=42b4c9c65f1ca733f3af77b232ce88d970ec67be729ccc344560371505480cb0\n",
            "  Stored in directory: /tmp/pip-ephem-wheel-cache-pwp3dyj9/wheels/b7/24/83/d30234cc013cff538805b14df916e79091f7cf9ee2c5bf3a64\n",
            "Successfully built warmup-scheduler\n",
            "Installing collected packages: warmup-scheduler\n",
            "Successfully installed warmup-scheduler-0.1.1\n"
          ],
          "name": "stdout"
        }
      ]
    },
    {
      "cell_type": "code",
      "metadata": {
        "id": "fMWeqM2vo4JI",
        "colab_type": "code",
        "outputId": "a17632a0-4728-4035-c3e2-25ed9cc0baf7",
        "colab": {
          "base_uri": "https://localhost:8080/",
          "height": 34
        }
      },
      "source": [
        "gpu_name = !nvidia-smi --query-gpu=name --format=csv,noheader\n",
        "gpu_name = gpu_name[0]\n",
        "gpu_name"
      ],
      "execution_count": 0,
      "outputs": [
        {
          "output_type": "execute_result",
          "data": {
            "text/plain": [
              "'Tesla T4'"
            ]
          },
          "metadata": {
            "tags": []
          },
          "execution_count": 3
        }
      ]
    },
    {
      "cell_type": "code",
      "metadata": {
        "id": "DYJWriImZeQL",
        "colab_type": "code",
        "outputId": "131f7b8c-b3a5-4eaa-fdb1-00e32ee730bc",
        "colab": {
          "base_uri": "https://localhost:8080/",
          "height": 63
        }
      },
      "source": [
        "import json\n",
        "import pandas as pd\n",
        "import numpy as np\n",
        "import random\n",
        "import os\n",
        "from sklearn.model_selection import train_test_split\n",
        "import torch\n",
        "import torch.nn as nn\n",
        "import torchvision\n",
        "from google.colab import drive\n",
        "from transformers import DistilBertModel, DistilBertTokenizer\n",
        "from tqdm import tqdm\n",
        "import datetime\n",
        "from datetime import date\n",
        "from warmup_scheduler import GradualWarmupScheduler\n",
        "from sklearn.metrics import accuracy_score, f1_score, confusion_matrix, classification_report\n",
        "from pprint import pprint\n",
        "import seaborn as sns\n",
        "\n",
        "%matplotlib inline"
      ],
      "execution_count": 0,
      "outputs": [
        {
          "output_type": "display_data",
          "data": {
            "text/html": [
              "<p style=\"color: red;\">\n",
              "The default version of TensorFlow in Colab will soon switch to TensorFlow 2.x.<br>\n",
              "We recommend you <a href=\"https://www.tensorflow.org/guide/migrate\" target=\"_blank\">upgrade</a> now \n",
              "or ensure your notebook will continue to use TensorFlow 1.x via the <code>%tensorflow_version 1.x</code> magic:\n",
              "<a href=\"https://colab.research.google.com/notebooks/tensorflow_version.ipynb\" target=\"_blank\">more info</a>.</p>\n"
            ],
            "text/plain": [
              "<IPython.core.display.HTML object>"
            ]
          },
          "metadata": {
            "tags": []
          }
        }
      ]
    },
    {
      "cell_type": "code",
      "metadata": {
        "id": "yatPviDgtSqg",
        "colab_type": "code",
        "outputId": "a734abaf-b93f-4941-ebab-231a9e0c4613",
        "colab": {
          "base_uri": "https://localhost:8080/",
          "height": 34
        }
      },
      "source": [
        "torch.__version__"
      ],
      "execution_count": 0,
      "outputs": [
        {
          "output_type": "execute_result",
          "data": {
            "text/plain": [
              "'1.4.0'"
            ]
          },
          "metadata": {
            "tags": []
          },
          "execution_count": 5
        }
      ]
    },
    {
      "cell_type": "code",
      "metadata": {
        "id": "xj690D03cL6d",
        "colab_type": "code",
        "colab": {}
      },
      "source": [
        "def seed_everything(seed=357, gpu_deterministic=False):\n",
        "    random.seed(seed)\n",
        "    os.environ['PYTHONHASHSEED'] = str(seed)\n",
        "    np.random.seed(seed)\n",
        "    torch.manual_seed(seed)\n",
        "    torch.cuda.manual_seed(seed)\n",
        "    torch.backends.cudnn.deterministic = gpu_deterministic\n",
        "\n",
        "seed_everything()"
      ],
      "execution_count": 0,
      "outputs": []
    },
    {
      "cell_type": "code",
      "metadata": {
        "id": "Qv0OZ8fnEgvT",
        "colab_type": "code",
        "colab": {}
      },
      "source": [
        "min_num_per_class = 10\n",
        "holdout_size = 0.2\n",
        "is_tqdm = False # True\n",
        "is_lr_find = False\n",
        "device = torch.device(\"cuda:0\")\n",
        "loader_workers = 6\n",
        "batch_size = 24\n",
        "max_seq_length = 512\n",
        "pretrained_weights = 'distilbert-base-cased'\n",
        "dropout_prob = 0.5\n",
        "model_name = 'BertClassifier'"
      ],
      "execution_count": 0,
      "outputs": []
    },
    {
      "cell_type": "markdown",
      "metadata": {
        "id": "_bZcZSeIdEvO",
        "colab_type": "text"
      },
      "source": [
        "# Data"
      ]
    },
    {
      "cell_type": "code",
      "metadata": {
        "id": "YyAtGj0ZaXZS",
        "colab_type": "code",
        "outputId": "86850c22-f6b3-488f-9a5e-991de333f963",
        "colab": {
          "base_uri": "https://localhost:8080/",
          "height": 34
        }
      },
      "source": [
        "drive.mount('/content/drive/')"
      ],
      "execution_count": 0,
      "outputs": [
        {
          "output_type": "stream",
          "text": [
            "Mounted at /content/drive/\n"
          ],
          "name": "stdout"
        }
      ]
    },
    {
      "cell_type": "code",
      "metadata": {
        "id": "x58eZRSgYMnD",
        "colab_type": "code",
        "colab": {}
      },
      "source": [
        "def load_data(path='drive/My Drive/bug.json'):\n",
        "  with open(path, 'r') as file:\n",
        "      data = file.read()\n",
        "      bugs = json.loads(data)['bugs']\n",
        "      return pd.DataFrame(data=bugs).set_index('id')\n",
        "\n",
        "df = load_data()\n",
        "df.head()\n",
        "\n",
        "df['summary']= df['summary'].astype(str)\n",
        "df['product']= df['product'].astype(str)\n",
        "df['description']= df['description'].astype(str)"
      ],
      "execution_count": 0,
      "outputs": []
    },
    {
      "cell_type": "code",
      "metadata": {
        "id": "Q9OesW-EaIVV",
        "colab_type": "code",
        "outputId": "7350990b-d321-430c-8a3d-80ab20ceca5a",
        "colab": {
          "base_uri": "https://localhost:8080/",
          "height": 173
        }
      },
      "source": [
        "df.describe()"
      ],
      "execution_count": 0,
      "outputs": [
        {
          "output_type": "execute_result",
          "data": {
            "text/html": [
              "<div>\n",
              "<style scoped>\n",
              "    .dataframe tbody tr th:only-of-type {\n",
              "        vertical-align: middle;\n",
              "    }\n",
              "\n",
              "    .dataframe tbody tr th {\n",
              "        vertical-align: top;\n",
              "    }\n",
              "\n",
              "    .dataframe thead th {\n",
              "        text-align: right;\n",
              "    }\n",
              "</style>\n",
              "<table border=\"1\" class=\"dataframe\">\n",
              "  <thead>\n",
              "    <tr style=\"text-align: right;\">\n",
              "      <th></th>\n",
              "      <th>summary</th>\n",
              "      <th>product</th>\n",
              "      <th>description</th>\n",
              "    </tr>\n",
              "  </thead>\n",
              "  <tbody>\n",
              "    <tr>\n",
              "      <th>count</th>\n",
              "      <td>10000</td>\n",
              "      <td>10000</td>\n",
              "      <td>10000</td>\n",
              "    </tr>\n",
              "    <tr>\n",
              "      <th>unique</th>\n",
              "      <td>9925</td>\n",
              "      <td>23</td>\n",
              "      <td>9867</td>\n",
              "    </tr>\n",
              "    <tr>\n",
              "      <th>top</th>\n",
              "      <td>Clean-up build warnings</td>\n",
              "      <td>Core</td>\n",
              "      <td>bug tracking feature in Summary.</td>\n",
              "    </tr>\n",
              "    <tr>\n",
              "      <th>freq</th>\n",
              "      <td>14</td>\n",
              "      <td>5541</td>\n",
              "      <td>34</td>\n",
              "    </tr>\n",
              "  </tbody>\n",
              "</table>\n",
              "</div>"
            ],
            "text/plain": [
              "                        summary product                       description\n",
              "count                     10000   10000                             10000\n",
              "unique                     9925      23                              9867\n",
              "top     Clean-up build warnings    Core  bug tracking feature in Summary.\n",
              "freq                         14    5541                                34"
            ]
          },
          "metadata": {
            "tags": []
          },
          "execution_count": 10
        }
      ]
    },
    {
      "cell_type": "code",
      "metadata": {
        "id": "yJ02T0F5ac9X",
        "colab_type": "code",
        "outputId": "b8cb9269-1e6a-4a4c-fbd4-d4e876883c32",
        "colab": {
          "base_uri": "https://localhost:8080/",
          "height": 447
        }
      },
      "source": [
        "df['product'].value_counts().plot(kind='bar', label='Product')"
      ],
      "execution_count": 0,
      "outputs": [
        {
          "output_type": "execute_result",
          "data": {
            "text/plain": [
              "<matplotlib.axes._subplots.AxesSubplot at 0x7f22781afe80>"
            ]
          },
          "metadata": {
            "tags": []
          },
          "execution_count": 11
        },
        {
          "output_type": "display_data",
          "data": {
            "image/png": "[encoded data removed]",
            "text/plain": [
              "<Figure size 432x288 with 1 Axes>"
            ]
          },
          "metadata": {
            "tags": []
          }
        }
      ]
    },
    {
      "cell_type": "code",
      "metadata": {
        "id": "gMiy4WJGa2I9",
        "colab_type": "code",
        "outputId": "73f628c6-c021-459a-c723-9fd154249c69",
        "colab": {
          "base_uri": "https://localhost:8080/",
          "height": 425
        }
      },
      "source": [
        "df['product'].value_counts()"
      ],
      "execution_count": 0,
      "outputs": [
        {
          "output_type": "execute_result",
          "data": {
            "text/plain": [
              "Core                                   5541\n",
              "SeaMonkey                              1470\n",
              "Core Graveyard                         1155\n",
              "MailNews Core                           879\n",
              "Bugzilla                                201\n",
              "MozillaClassic Graveyard                185\n",
              "NSPR                                    141\n",
              "CCK Graveyard                           131\n",
              "Directory                                66\n",
              "Webtools Graveyard                       49\n",
              "Toolkit                                  48\n",
              "bugzilla.mozilla.org                     42\n",
              "mozilla.org                              33\n",
              "Tech Evangelism Graveyard                18\n",
              "Grendel Graveyard                        11\n",
              "mozilla.org Graveyard                     9\n",
              "Rhino Graveyard                           5\n",
              "www.mozilla.org                           5\n",
              "Webtools                                  4\n",
              "Developer Documentation                   3\n",
              "Other Applications Graveyard              2\n",
              "Documentation Graveyard                   1\n",
              "External Software Affecting Firefox       1\n",
              "Name: product, dtype: int64"
            ]
          },
          "metadata": {
            "tags": []
          },
          "execution_count": 12
        }
      ]
    },
    {
      "cell_type": "code",
      "metadata": {
        "id": "3TBzKSPK-vzP",
        "colab_type": "code",
        "outputId": "21342f58-fa0a-4829-bef2-bfd6208671be",
        "colab": {
          "base_uri": "https://localhost:8080/",
          "height": 413
        }
      },
      "source": [
        "products_gr = df['product'].value_counts()\n",
        "others = products_gr[products_gr < min_num_per_class].index.values\n",
        "df.loc[df['product'].isin(others), ['product']] = 'other'\n",
        "df['product'].value_counts().plot(kind='bar', label='Product')"
      ],
      "execution_count": 0,
      "outputs": [
        {
          "output_type": "execute_result",
          "data": {
            "text/plain": [
              "<matplotlib.axes._subplots.AxesSubplot at 0x7f22783e6e48>"
            ]
          },
          "metadata": {
            "tags": []
          },
          "execution_count": 13
        },
        {
          "output_type": "display_data",
          "data": {
            "image/png": "[encoded data removed]",
            "text/plain": [
              "<Figure size 432x288 with 1 Axes>"
            ]
          },
          "metadata": {
            "tags": []
          }
        }
      ]
    },
    {
      "cell_type": "code",
      "metadata": {
        "id": "OeFEH1LSem8m",
        "colab_type": "code",
        "outputId": "ab1c150f-cbaa-4ec4-c56b-e9b204c3e552",
        "colab": {
          "base_uri": "https://localhost:8080/",
          "height": 282
        }
      },
      "source": [
        "df['summary'].apply(lambda text: len(text)).plot(kind='hist')"
      ],
      "execution_count": 0,
      "outputs": [
        {
          "output_type": "execute_result",
          "data": {
            "text/plain": [
              "<matplotlib.axes._subplots.AxesSubplot at 0x7f22786fbeb8>"
            ]
          },
          "metadata": {
            "tags": []
          },
          "execution_count": 14
        },
        {
          "output_type": "display_data",
          "data": {
            "image/png": "[encoded data removed]",
            "text/plain": [
              "<Figure size 432x288 with 1 Axes>"
            ]
          },
          "metadata": {
            "tags": []
          }
        }
      ]
    },
    {
      "cell_type": "code",
      "metadata": {
        "id": "6kjfIv2TfEOl",
        "colab_type": "code",
        "outputId": "476c8f60-df26-4570-cc1d-6c55cec9ba15",
        "colab": {
          "base_uri": "https://localhost:8080/",
          "height": 285
        }
      },
      "source": [
        "df['description'].apply(lambda text: len(text)).plot(kind='hist')"
      ],
      "execution_count": 0,
      "outputs": [
        {
          "output_type": "execute_result",
          "data": {
            "text/plain": [
              "<matplotlib.axes._subplots.AxesSubplot at 0x7f2277d367f0>"
            ]
          },
          "metadata": {
            "tags": []
          },
          "execution_count": 15
        },
        {
          "output_type": "display_data",
          "data": {
            "image/png": "[encoded data removed]",
            "text/plain": [
              "<Figure size 432x288 with 1 Axes>"
            ]
          },
          "metadata": {
            "tags": []
          }
        }
      ]
    },
    {
      "cell_type": "code",
      "metadata": {
        "id": "GQgvONXPfMeU",
        "colab_type": "code",
        "outputId": "7a22478a-7b94-4e94-9ea0-092f90f3fb40",
        "colab": {
          "base_uri": "https://localhost:8080/",
          "height": 282
        }
      },
      "source": [
        "df[df['description'].apply(lambda text: len(text)) <= 3000]['description'].apply(lambda text: len(text)).plot(kind='hist')"
      ],
      "execution_count": 0,
      "outputs": [
        {
          "output_type": "execute_result",
          "data": {
            "text/plain": [
              "<matplotlib.axes._subplots.AxesSubplot at 0x7f2277cfb9b0>"
            ]
          },
          "metadata": {
            "tags": []
          },
          "execution_count": 16
        },
        {
          "output_type": "display_data",
          "data": {
            "image/png": "[encoded data removed]",
            "text/plain": [
              "<Figure size 432x288 with 1 Axes>"
            ]
          },
          "metadata": {
            "tags": []
          }
        }
      ]
    },
    {
      "cell_type": "code",
      "metadata": {
        "id": "68J_uLIPUQmv",
        "colab_type": "code",
        "outputId": "0f47c903-5bfb-4645-882d-8b12acb41529",
        "colab": {
          "base_uri": "https://localhost:8080/",
          "height": 289
        }
      },
      "source": [
        "products = df['product'].unique()\n",
        "prod_to_target = { name : id for id, name in enumerate(products) }\n",
        "target_to_prod = { id : name for id, name in enumerate(products) }\n",
        "num_classes = len(products)\n",
        "\n",
        "target_to_prod"
      ],
      "execution_count": 0,
      "outputs": [
        {
          "output_type": "execute_result",
          "data": {
            "text/plain": [
              "{0: 'MozillaClassic Graveyard',\n",
              " 1: 'Core',\n",
              " 2: 'NSPR',\n",
              " 3: 'SeaMonkey',\n",
              " 4: 'other',\n",
              " 5: 'Tech Evangelism Graveyard',\n",
              " 6: 'Bugzilla',\n",
              " 7: 'Core Graveyard',\n",
              " 8: 'MailNews Core',\n",
              " 9: 'Webtools Graveyard',\n",
              " 10: 'Directory',\n",
              " 11: 'bugzilla.mozilla.org',\n",
              " 12: 'CCK Graveyard',\n",
              " 13: 'Grendel Graveyard',\n",
              " 14: 'Toolkit',\n",
              " 15: 'mozilla.org'}"
            ]
          },
          "metadata": {
            "tags": []
          },
          "execution_count": 17
        }
      ]
    },
    {
      "cell_type": "code",
      "metadata": {
        "id": "bkjHuy-nO66e",
        "colab_type": "code",
        "colab": {}
      },
      "source": [
        "df['x'] = (df['summary'] + df['description'])\n",
        "df['y'] = df['product'].apply(lambda x: prod_to_target[x])"
      ],
      "execution_count": 0,
      "outputs": []
    },
    {
      "cell_type": "code",
      "metadata": {
        "id": "zWrI_FemAjF0",
        "colab_type": "code",
        "colab": {}
      },
      "source": [
        "df_train, df_val = train_test_split(df, test_size=holdout_size, stratify=df['y'])"
      ],
      "execution_count": 0,
      "outputs": []
    },
    {
      "cell_type": "code",
      "metadata": {
        "id": "6J4sRFcHQM1K",
        "colab_type": "code",
        "outputId": "1f28ca45-7849-4b8f-8653-a253faaff3ef",
        "colab": {
          "base_uri": "https://localhost:8080/",
          "height": 66,
          "referenced_widgets": [
            "5a879b43744b4c66af7c4427d0fdeab1",
            "dae5d2927ec941dfaa70009537d15ae4",
            "a92944c4d12b4aba891c3721e908c076",
            "407023557ca546b7ac099c398568510c",
            "ba708650f9ef4829b59cabf6c7142eef",
            "e5f1607823a340b595aeef841e9db809",
            "126723b3193341a2a06d8ac1195416a0",
            "0af0e3e80f9343668d2f7b91ab3e6341"
          ]
        }
      },
      "source": [
        "def get_dataset(df, max_seq_length, tokenizer):\n",
        "  tokens = df['x'].apply(lambda x: np.array(tokenizer.encode(x, add_special_tokens=True, max_length=max_seq_length)))\n",
        "  tokens = np.array([np.concatenate((token, [0] * (max_seq_length - len(token)))).astype(int) for token in tokens])\n",
        "  return torch.utils.data.TensorDataset(torch.from_numpy(tokens), torch.tensor(df['y'].values, dtype=torch.long))\n",
        "\n",
        "tokenizer = DistilBertTokenizer.from_pretrained(pretrained_weights)\n",
        "ds_train = get_dataset(df_train, max_seq_length, tokenizer)\n",
        "ds_val = get_dataset(df_val, max_seq_length, tokenizer)"
      ],
      "execution_count": 0,
      "outputs": [
        {
          "output_type": "display_data",
          "data": {
            "application/vnd.jupyter.widget-view+json": {
              "model_id": "5a879b43744b4c66af7c4427d0fdeab1",
              "version_minor": 0,
              "version_major": 2
            },
            "text/plain": [
              "HBox(children=(IntProgress(value=0, description='Downloading', max=213450, style=ProgressStyle(description_wid…"
            ]
          },
          "metadata": {
            "tags": []
          }
        },
        {
          "output_type": "stream",
          "text": [
            "\n"
          ],
          "name": "stdout"
        }
      ]
    },
    {
      "cell_type": "code",
      "metadata": {
        "id": "Kb6EUeKDjRWo",
        "colab_type": "code",
        "colab": {}
      },
      "source": [
        "dl_train = torch.utils.data.DataLoader(ds_train, batch_size=batch_size, shuffle=True, num_workers=loader_workers)\n",
        "dl_val = torch.utils.data.DataLoader(ds_val, batch_size=batch_size, shuffle=False, num_workers=loader_workers)"
      ],
      "execution_count": 0,
      "outputs": []
    },
    {
      "cell_type": "markdown",
      "metadata": {
        "id": "Ppq4x4I_saRj",
        "colab_type": "text"
      },
      "source": [
        "# Model"
      ]
    },
    {
      "cell_type": "code",
      "metadata": {
        "id": "4j1Dnvn2sT3-",
        "colab_type": "code",
        "colab": {}
      },
      "source": [
        "class BertClassifier(nn.Module):\n",
        "  def __init__(self, bert, num_classes, dropout_prob=0.5):\n",
        "    super(BertClassifier, self).__init__()\n",
        "\n",
        "    hidden_dim = bert.transformer.layer[-1].output_layer_norm.normalized_shape[0]\n",
        "    self.bert = bert\n",
        "    self.fc1 = nn.Linear(hidden_dim, hidden_dim)\n",
        "    self.dropout = nn.Dropout(dropout_prob)\n",
        "    self.fc2 = nn.Linear(hidden_dim, num_classes)\n",
        "\n",
        "  def forward(self, x, attention_mask=None):\n",
        "    x = self.bert(x, attention_mask)[0]\n",
        "    x = x[:, 0] # https://arxiv.org/pdf/1905.05583.pdf\n",
        "    x = self.fc1(x)\n",
        "    x = nn.ReLU()(x)\n",
        "    x = self.dropout(x)\n",
        "    x = self.fc2(x)\n",
        "    return x"
      ],
      "execution_count": 0,
      "outputs": []
    },
    {
      "cell_type": "code",
      "metadata": {
        "id": "AkBXiN0Rso7f",
        "colab_type": "code",
        "outputId": "ad54862f-7302-432a-d58f-70941abb1fd0",
        "colab": {
          "base_uri": "https://localhost:8080/",
          "height": 115,
          "referenced_widgets": [
            "d0698cfacd6b4ecba7990f4e155de300",
            "ea9a5c69fbfc43da8ad1625e6b020768",
            "b5d6fbdbcd2a4098b93472f4a506057b",
            "1ea5ff4fd4b6414a8def62fb1a6a0ba7",
            "47fa06f49bba4047930436e4181ed444",
            "605090b886c2424586c69c4f3089be38",
            "8ffa40590cbc40848efb5e98f22164b2",
            "03587756d6a647b68bf4cc8bebdf0cc3",
            "dde13490869747d583a8df9afb83fcb2",
            "a73f44e29cfa4c4184397812843ac3ae",
            "06a2a0b4db364e81ad0088df5787d18c",
            "9c8151d385e14aa198c1c5920cbc5011",
            "ffca19d8b6d6425cbf0b34363bce513a",
            "61564ce3997f4ebea43260efb040dd9c",
            "7d45f5ed5cce4f13a8292733eade5812",
            "708ddc74947446698a025efc8ac395e0"
          ]
        }
      },
      "source": [
        "model = BertClassifier(DistilBertModel.from_pretrained(pretrained_weights), num_classes, dropout_prob=dropout_prob)\n",
        "model = model.to(device)"
      ],
      "execution_count": 0,
      "outputs": [
        {
          "output_type": "display_data",
          "data": {
            "application/vnd.jupyter.widget-view+json": {
              "model_id": "d0698cfacd6b4ecba7990f4e155de300",
              "version_minor": 0,
              "version_major": 2
            },
            "text/plain": [
              "HBox(children=(IntProgress(value=0, description='Downloading', max=939, style=ProgressStyle(description_width=…"
            ]
          },
          "metadata": {
            "tags": []
          }
        },
        {
          "output_type": "stream",
          "text": [
            "\n"
          ],
          "name": "stdout"
        },
        {
          "output_type": "display_data",
          "data": {
            "application/vnd.jupyter.widget-view+json": {
              "model_id": "dde13490869747d583a8df9afb83fcb2",
              "version_minor": 0,
              "version_major": 2
            },
            "text/plain": [
              "HBox(children=(IntProgress(value=0, description='Downloading', max=263273408, style=ProgressStyle(description_…"
            ]
          },
          "metadata": {
            "tags": []
          }
        },
        {
          "output_type": "stream",
          "text": [
            "\n"
          ],
          "name": "stdout"
        }
      ]
    },
    {
      "cell_type": "code",
      "metadata": {
        "id": "VE92HfjGEY6l",
        "colab_type": "code",
        "colab": {}
      },
      "source": [
        "def model_filename():\n",
        "    return f'{datetime.datetime.now():%Y-%m-%d-%H}_{model_name}'"
      ],
      "execution_count": 0,
      "outputs": []
    },
    {
      "cell_type": "markdown",
      "metadata": {
        "id": "F5L7b8k1jeve",
        "colab_type": "text"
      },
      "source": [
        "# LR Finder (https://github.com/davidtvs/pytorch-lr-finder)"
      ]
    },
    {
      "cell_type": "code",
      "metadata": {
        "id": "LkRl9eOMjxXs",
        "colab_type": "code",
        "colab": {}
      },
      "source": [
        "from __future__ import print_function, with_statement, division\n",
        "import copy\n",
        "import os\n",
        "import torch\n",
        "from tqdm import tqdm\n",
        "from torch.optim.lr_scheduler import _LRScheduler\n",
        "import matplotlib.pyplot as plt\n",
        "\n",
        "\n",
        "class LRFinder(object):\n",
        "    \"\"\"Learning rate range test.\n",
        "\n",
        "    The learning rate range test increases the learning rate in a pre-training run\n",
        "    between two boundaries in a linear or exponential manner. It provides valuable\n",
        "    information on how well the network can be trained over a range of learning rates\n",
        "    and what is the optimal learning rate.\n",
        "\n",
        "    Arguments:\n",
        "        model (torch.nn.Module): wrapped model.\n",
        "        optimizer (torch.optim.Optimizer): wrapped optimizer where the defined learning\n",
        "            is assumed to be the lower boundary of the range test.\n",
        "        criterion (torch.nn.Module): wrapped loss function.\n",
        "        device (str or torch.device, optional): a string (\"cpu\" or \"cuda\") with an\n",
        "            optional ordinal for the device type (e.g. \"cuda:X\", where is the ordinal).\n",
        "            Alternatively, can be an object representing the device on which the\n",
        "            computation will take place. Default: None, uses the same device as `model`.\n",
        "        memory_cache (boolean): if this flag is set to True, `state_dict` of model and\n",
        "            optimizer will be cached in memory. Otherwise, they will be saved to files\n",
        "            under the `cache_dir`.\n",
        "        cache_dir (string): path for storing temporary files. If no path is specified,\n",
        "            system-wide temporary directory is used.\n",
        "            Notice that this parameter will be ignored if `memory_cache` is True.\n",
        "\n",
        "    Example:\n",
        "        >>> lr_finder = LRFinder(net, optimizer, criterion, device=\"cuda\")\n",
        "        >>> lr_finder.range_test(dataloader, end_lr=100, num_iter=100)\n",
        "\n",
        "    Cyclical Learning Rates for Training Neural Networks: https://arxiv.org/abs/1506.01186\n",
        "    fastai/lr_find: https://github.com/fastai/fastai\n",
        "\n",
        "    \"\"\"\n",
        "\n",
        "    def __init__(self, model, optimizer, criterion, device=None, memory_cache=True, cache_dir=None):\n",
        "        self.model = model\n",
        "        self.optimizer = optimizer\n",
        "        self.criterion = criterion\n",
        "        self.history = {\"lr\": [], \"loss\": []}\n",
        "        self.best_loss = None\n",
        "        self.memory_cache = memory_cache\n",
        "        self.cache_dir = cache_dir\n",
        "\n",
        "        # Save the original state of the model and optimizer so they can be restored if\n",
        "        # needed\n",
        "        self.model_device = next(self.model.parameters()).device\n",
        "        self.state_cacher = StateCacher(memory_cache, cache_dir=cache_dir)\n",
        "        self.state_cacher.store('model', self.model.state_dict())\n",
        "        self.state_cacher.store('optimizer', self.optimizer.state_dict())\n",
        "\n",
        "        # If device is None, use the same as the model\n",
        "        if device:\n",
        "            self.device = device\n",
        "        else:\n",
        "            self.device = self.model_device\n",
        "\n",
        "    def reset(self):\n",
        "        \"\"\"Restores the model and optimizer to their initial states.\"\"\"\n",
        "        self.model.load_state_dict(self.state_cacher.retrieve('model'))\n",
        "        self.optimizer.load_state_dict(self.state_cacher.retrieve('optimizer'))\n",
        "        self.model.to(self.model_device)\n",
        "\n",
        "    def range_test(\n",
        "        self,\n",
        "        train_loader,\n",
        "        val_loader=None,\n",
        "        end_lr=10,\n",
        "        num_iter=100,\n",
        "        step_mode=\"exp\",\n",
        "        smooth_f=0.05,\n",
        "        diverge_th=5,\n",
        "    ):\n",
        "        \"\"\"Performs the learning rate range test.\n",
        "\n",
        "        Arguments:\n",
        "            train_loader (torch.utils.data.DataLoader): the training set data laoder.\n",
        "            val_loader (torch.utils.data.DataLoader, optional): if `None` the range test\n",
        "                will only use the training loss. When given a data loader, the model is\n",
        "                evaluated after each iteration on that dataset and the evaluation loss\n",
        "                is used. Note that in this mode the test takes significantly longer but\n",
        "                generally produces more precise results. Default: None.\n",
        "            end_lr (float, optional): the maximum learning rate to test. Default: 10.\n",
        "            num_iter (int, optional): the number of iterations over which the test\n",
        "                occurs. Default: 100.\n",
        "            step_mode (str, optional): one of the available learning rate policies,\n",
        "                linear or exponential (\"linear\", \"exp\"). Default: \"exp\".\n",
        "            smooth_f (float, optional): the loss smoothing factor within the [0, 1[\n",
        "                interval. Disabled if set to 0, otherwise the loss is smoothed using\n",
        "                exponential smoothing. Default: 0.05.\n",
        "            diverge_th (int, optional): the test is stopped when the loss surpasses the\n",
        "                threshold:  diverge_th * best_loss. Default: 5.\n",
        "\n",
        "        \"\"\"\n",
        "        # Reset test results\n",
        "        self.history = {\"lr\": [], \"loss\": []}\n",
        "        self.best_loss = None\n",
        "\n",
        "        # Move the model to the proper device\n",
        "        self.model.to(self.device)\n",
        "\n",
        "        # Initialize the proper learning rate policy\n",
        "        if step_mode.lower() == \"exp\":\n",
        "            lr_schedule = ExponentialLR(self.optimizer, end_lr, num_iter)\n",
        "        elif step_mode.lower() == \"linear\":\n",
        "            lr_schedule = LinearLR(self.optimizer, end_lr, num_iter)\n",
        "        else:\n",
        "            raise ValueError(\"expected one of (exp, linear), got {}\".format(step_mode))\n",
        "\n",
        "        if smooth_f < 0 or smooth_f >= 1:\n",
        "            raise ValueError(\"smooth_f is outside the range [0, 1[\")\n",
        "\n",
        "        # Create an iterator to get data batch by batch\n",
        "        iterator = iter(train_loader)\n",
        "        for iteration in tqdm(range(num_iter)):\n",
        "            # Get a new set of inputs and labels\n",
        "            try:\n",
        "                inputs, labels = next(iterator)\n",
        "            except StopIteration:\n",
        "                iterator = iter(train_loader)\n",
        "                inputs, labels = next(iterator)\n",
        "\n",
        "            # Train on batch and retrieve loss\n",
        "            loss = self._train_batch(inputs, labels)\n",
        "            if val_loader:\n",
        "                loss = self._validate(val_loader)\n",
        "\n",
        "            # Update the learning rate\n",
        "            lr_schedule.step()\n",
        "            self.history[\"lr\"].append(lr_schedule.get_lr()[0])\n",
        "\n",
        "            # Track the best loss and smooth it if smooth_f is specified\n",
        "            if iteration == 0:\n",
        "                self.best_loss = loss\n",
        "            else:\n",
        "                if smooth_f > 0:\n",
        "                    loss = smooth_f * loss + (1 - smooth_f) * self.history[\"loss\"][-1]\n",
        "                if loss < self.best_loss:\n",
        "                    self.best_loss = loss\n",
        "\n",
        "            # Check if the loss has diverged; if it has, stop the test\n",
        "            self.history[\"loss\"].append(loss)\n",
        "            if loss > diverge_th * self.best_loss:\n",
        "                print(\"Stopping early, the loss has diverged\")\n",
        "                break\n",
        "\n",
        "        print(\"Learning rate search finished. See the graph with {finder_name}.plot()\")\n",
        "\n",
        "    def _train_batch(self, inputs, labels):\n",
        "        # Set model to training mode\n",
        "        self.model.train()\n",
        "\n",
        "        # Move data to the correct device\n",
        "        inputs = inputs.to(self.device)\n",
        "        labels = labels.to(self.device)\n",
        "\n",
        "        # Forward pass\n",
        "        self.optimizer.zero_grad()\n",
        "        outputs = self.model(inputs, attention_mask=(inputs>0).to(device))\n",
        "        loss = self.criterion(outputs, labels)\n",
        "\n",
        "        # Backward pass\n",
        "        loss.backward()\n",
        "        self.optimizer.step()\n",
        "\n",
        "        return loss.item()\n",
        "\n",
        "    def _validate(self, dataloader):\n",
        "        # Set model to evaluation mode and disable gradient computation\n",
        "        running_loss = 0\n",
        "        self.model.eval()\n",
        "        with torch.no_grad():\n",
        "            for inputs, labels in dataloader:\n",
        "                # Move data to the correct device\n",
        "                inputs = inputs.to(self.device)\n",
        "                labels = labels.to(self.device)\n",
        "\n",
        "                # Forward pass and loss computation\n",
        "                outputs = self.model(inputs, attention_mask=(inputs>0).to(device))\n",
        "                loss = self.criterion(outputs, labels)\n",
        "                running_loss += loss.item() * inputs.size(0)\n",
        "\n",
        "        return running_loss / len(dataloader.dataset)\n",
        "\n",
        "    def plot(self, skip_start=10, skip_end=5, log_lr=True):\n",
        "        \"\"\"Plots the learning rate range test.\n",
        "\n",
        "        Arguments:\n",
        "            skip_start (int, optional): number of batches to trim from the start.\n",
        "                Default: 10.\n",
        "            skip_end (int, optional): number of batches to trim from the start.\n",
        "                Default: 5.\n",
        "            log_lr (bool, optional): True to plot the learning rate in a logarithmic\n",
        "                scale; otherwise, plotted in a linear scale. Default: True.\n",
        "\n",
        "        \"\"\"\n",
        "\n",
        "        if skip_start < 0:\n",
        "            raise ValueError(\"skip_start cannot be negative\")\n",
        "        if skip_end < 0:\n",
        "            raise ValueError(\"skip_end cannot be negative\")\n",
        "\n",
        "        # Get the data to plot from the history dictionary. Also, handle skip_end=0\n",
        "        # properly so the behaviour is the expected\n",
        "        lrs = self.history[\"lr\"]\n",
        "        losses = self.history[\"loss\"]\n",
        "        if skip_end == 0:\n",
        "            lrs = lrs[skip_start:]\n",
        "            losses = losses[skip_start:]\n",
        "        else:\n",
        "            lrs = lrs[skip_start:-skip_end]\n",
        "            losses = losses[skip_start:-skip_end]\n",
        "\n",
        "        # Plot loss as a function of the learning rate\n",
        "        plt.plot(lrs, losses)\n",
        "        if log_lr:\n",
        "            plt.xscale(\"log\")\n",
        "        plt.xlabel(\"Learning rate\")\n",
        "        plt.ylabel(\"Loss\")\n",
        "        plt.show()\n",
        "\n",
        "\n",
        "class LinearLR(_LRScheduler):\n",
        "    \"\"\"Linearly increases the learning rate between two boundaries over a number of\n",
        "    iterations.\n",
        "\n",
        "    Arguments:\n",
        "        optimizer (torch.optim.Optimizer): wrapped optimizer.\n",
        "        end_lr (float, optional): the initial learning rate which is the lower\n",
        "            boundary of the test. Default: 10.\n",
        "        num_iter (int, optional): the number of iterations over which the test\n",
        "            occurs. Default: 100.\n",
        "        last_epoch (int): the index of last epoch. Default: -1.\n",
        "\n",
        "    \"\"\"\n",
        "\n",
        "    def __init__(self, optimizer, end_lr, num_iter, last_epoch=-1):\n",
        "        self.end_lr = end_lr\n",
        "        self.num_iter = num_iter\n",
        "        super(LinearLR, self).__init__(optimizer, last_epoch)\n",
        "\n",
        "    def get_lr(self):\n",
        "        curr_iter = self.last_epoch + 1\n",
        "        r = curr_iter / self.num_iter\n",
        "        return [base_lr + r * (self.end_lr - base_lr) for base_lr in self.base_lrs]\n",
        "\n",
        "\n",
        "class ExponentialLR(_LRScheduler):\n",
        "    \"\"\"Exponentially increases the learning rate between two boundaries over a number of\n",
        "    iterations.\n",
        "\n",
        "    Arguments:\n",
        "        optimizer (torch.optim.Optimizer): wrapped optimizer.\n",
        "        end_lr (float, optional): the initial learning rate which is the lower\n",
        "            boundary of the test. Default: 10.\n",
        "        num_iter (int, optional): the number of iterations over which the test\n",
        "            occurs. Default: 100.\n",
        "        last_epoch (int): the index of last epoch. Default: -1.\n",
        "\n",
        "    \"\"\"\n",
        "\n",
        "    def __init__(self, optimizer, end_lr, num_iter, last_epoch=-1):\n",
        "        self.end_lr = end_lr\n",
        "        self.num_iter = num_iter\n",
        "        super(ExponentialLR, self).__init__(optimizer, last_epoch)\n",
        "\n",
        "    def get_lr(self):\n",
        "        curr_iter = self.last_epoch + 1\n",
        "        r = curr_iter / self.num_iter\n",
        "        return [base_lr * (self.end_lr / base_lr) ** r for base_lr in self.base_lrs]\n",
        "\n",
        "\n",
        "class StateCacher(object):\n",
        "    def __init__(self, in_memory, cache_dir=None):\n",
        "        self.in_memory = in_memory\n",
        "        self.cache_dir = cache_dir\n",
        "\n",
        "        if self.cache_dir is None:\n",
        "            import tempfile\n",
        "            self.cache_dir = tempfile.gettempdir()\n",
        "        else:\n",
        "            if not os.path.isdir(self.cache_dir):\n",
        "                raise ValueError('Given `cache_dir` is not a valid directory.')\n",
        "\n",
        "        self.cached = {}\n",
        "\n",
        "    def store(self, key, state_dict):\n",
        "        if self.in_memory:\n",
        "            self.cached.update({key: copy.deepcopy(state_dict)})\n",
        "        else:\n",
        "            fn = os.path.join(self.cache_dir, 'state_{}_{}.pt'.format(key, id(self)))\n",
        "            self.cached.update({key: fn})\n",
        "            torch.save(state_dict, fn)\n",
        "\n",
        "    def retrieve(self, key):\n",
        "        if key not in self.cached:\n",
        "            raise KeyError('Target {} was not cached.'.format(key))\n",
        "\n",
        "        if self.in_memory:\n",
        "            return self.cached.get(key)\n",
        "        else:\n",
        "            fn = self.cached.get(key)\n",
        "            if not os.path.exists(fn):\n",
        "                raise RuntimeError('Failed to load state in {}. File does not exist anymore.'.format(fn))\n",
        "            state_dict = torch.load(fn, map_location=lambda storage, location: storage)\n",
        "            return state_dict\n",
        "\n",
        "    def __del__(self):\n",
        "        \"\"\"Check whether there are unused cached files existing in `cache_dir` before\n",
        "        this instance being destroyed.\"\"\"\n",
        "        if self.in_memory:\n",
        "            return\n",
        "\n",
        "        for k in self.cached:\n",
        "            if os.path.exists(self.cached[k]):\n",
        "                os.remove(self.cached[k])"
      ],
      "execution_count": 0,
      "outputs": []
    },
    {
      "cell_type": "markdown",
      "metadata": {
        "id": "8lT99CChkKDI",
        "colab_type": "text"
      },
      "source": [
        "# Find LR"
      ]
    },
    {
      "cell_type": "code",
      "metadata": {
        "id": "VwG2LtxojhBM",
        "colab_type": "code",
        "colab": {}
      },
      "source": [
        "if is_lr_find:\n",
        "  for param in model.parameters():\n",
        "    param.requires_grad = True\n",
        "  \n",
        "  criterion = nn.CrossEntropyLoss()\n",
        "  optimizer = torch.optim.Adam(model.parameters(), lr=1e-9)\n",
        "  lr_finder = LRFinder(model, optimizer, criterion, device=\"cuda\")\n",
        "  lr_finder.range_test(dl_train, end_lr=10, num_iter=100, step_mode=\"exp\")"
      ],
      "execution_count": 0,
      "outputs": []
    },
    {
      "cell_type": "code",
      "metadata": {
        "id": "PCFz80BQjqwM",
        "colab_type": "code",
        "colab": {}
      },
      "source": [
        "if is_lr_find:\n",
        "  lr_finder.plot()\n",
        "  lr_finder.reset()"
      ],
      "execution_count": 0,
      "outputs": []
    },
    {
      "cell_type": "markdown",
      "metadata": {
        "id": "f0VI5Snm9O7_",
        "colab_type": "text"
      },
      "source": [
        "# Validation"
      ]
    },
    {
      "cell_type": "code",
      "metadata": {
        "id": "JdqXTNy09IHH",
        "colab_type": "code",
        "colab": {}
      },
      "source": [
        "def validate(dataloader, total_len, criterion):\n",
        "  model.eval()\n",
        "  tlen = len(dataloader)\n",
        "\n",
        "  tloss = 0.0 \n",
        "  preds = []\n",
        "  labels = []\n",
        "  \n",
        "  with torch.no_grad():\n",
        "    it = tqdm(dataloader, total=tlen) if is_tqdm else dataloader\n",
        "    for x, y in it:\n",
        "      x = x.to(device)\n",
        "      y = y.to(device)\n",
        "      output = model(x, attention_mask=(x>0).to(device))\n",
        "      loss = criterion(output, y)\n",
        "      tloss += loss.item()\n",
        "      _, pred = torch.max(output, 1)\n",
        "\n",
        "      preds += pred.cpu()\n",
        "      labels += y.cpu()\n",
        "\n",
        "  print(f'Loss: {tloss / tlen}')\n",
        "  print(classification_report(labels, preds, target_names=products))\n",
        "\n",
        "  '''\n",
        "  conf_matrix = confusion_matrix(labels, preds)\n",
        "  f1_by_class = dict(zip(products, f1_score(labels, preds, average=None)))\n",
        "  f1_macro = f1_score(labels, preds, average='macro')\n",
        "  acc = accuracy_score(labels, preds)\n",
        "  mean_loss = tloss / tlen\n",
        "  acc_by_class = dict(zip(products, conf_matrix.diagonal() / conf_matrix.sum(1)))\n",
        "\n",
        "  print(f'Accuracy: {acc}, loss: {mean_loss}, f1 macro: {f1_macro}')\n",
        "  print(f'By class accuracy:')\n",
        "  pprint(acc_by_class)\n",
        "  print(f'By class f1:')\n",
        "  pprint(f1_by_class)\n",
        "  '''\n",
        "\n",
        "  return confusion_matrix(labels, preds)\n"
      ],
      "execution_count": 0,
      "outputs": []
    },
    {
      "cell_type": "markdown",
      "metadata": {
        "id": "hzVimJ339SaW",
        "colab_type": "text"
      },
      "source": [
        "# Train"
      ]
    },
    {
      "cell_type": "code",
      "metadata": {
        "id": "bQ4O4Qwb1rEE",
        "colab_type": "code",
        "colab": {}
      },
      "source": [
        "def train_epoch(dl_train, batch_num, criterion, scheduler, acc_step):\n",
        "  model.train()\n",
        "  \n",
        "  optimizer.zero_grad()\n",
        "  \n",
        "  tloss = 0.0 \n",
        "  it = tqdm(dl_train, total=batch_num) if is_tqdm else dl_train\n",
        "  for idx, (x, y) in enumerate(it):\n",
        "    x = x.to(device)\n",
        "    y = y.to(device)\n",
        "\n",
        "    output = model(x, attention_mask=(x>0).to(device))\n",
        "    loss = criterion(output, y)\n",
        "\n",
        "    tloss += loss.item()\n",
        "\n",
        "    loss.backward()\n",
        "    \n",
        "    if (idx + 1) % acc_step == 0 or (idx + 1) == batch_num:\n",
        "      optimizer.step()\n",
        "      optimizer.zero_grad()\n",
        "  \n",
        "  return tloss\n",
        "\n",
        "def train(dl_train, dl_val, scheduler, criterion, epochs, finished_epoches, val_interval=1, acc_step=1):\n",
        "  batch_num = len(dl_train)\n",
        "\n",
        "  ft = '{:.6f}'.format\n",
        "  for epoch in range(finished_epoches, finished_epoches + epochs):\n",
        "    scheduler.step()\n",
        "\n",
        "    tloss = train_epoch(dl_train, batch_num, criterion, scheduler, acc_step)\n",
        "    print(f'{datetime.datetime.now()} Epoch {epoch+1}/{finished_epoches + epochs}: train loss={ft(tloss/batch_num)}')\n",
        "    torch.cuda.empty_cache()\n",
        "\n",
        "    if epoch % val_interval == 0 or (epoch == finished_epoches + epochs - 1):\n",
        "      validate(dl_val, len(df_val), criterion)\n",
        "      torch.cuda.empty_cache()\n",
        "\n",
        "  torch.save({\n",
        "    'epoch': finished_epoches + epochs,\n",
        "    'model_state_dict': model.state_dict(),\n",
        "    'optimizer_state_dict': optimizer.state_dict(),\n",
        "    # 'scheduler_state_dict': scheduler.state_dict(),\n",
        "  }, f'{model_filename()}_{finished_epoches + epochs}.pth')\n",
        "  print('model saved')\n",
        "  del scheduler"
      ],
      "execution_count": 0,
      "outputs": []
    },
    {
      "cell_type": "code",
      "metadata": {
        "id": "WMo27ddayVGG",
        "colab_type": "code",
        "colab": {}
      },
      "source": [
        "if 0:\n",
        "  previous = f'/content/drive/My Drive/2020-03-11-21_BertClassifier_12.pth'\n",
        "  checkpoint = torch.load(previous)\n",
        "  print('Loaded: ', previous)\n",
        "  model.load_state_dict(checkpoint)\n",
        "\n",
        "  criterion = nn.CrossEntropyLoss()\n",
        "  #validate(dl_train, len(dl_train), criterion)\n",
        "  conf_mat = validate(dl_val, len(df_val), criterion)"
      ],
      "execution_count": 0,
      "outputs": []
    },
    {
      "cell_type": "code",
      "metadata": {
        "id": "UyM8DQTk8G-K",
        "colab_type": "code",
        "colab": {}
      },
      "source": [
        "if 0:\n",
        "  fig, ax = plt.subplots(figsize=(8,8))\n",
        "  sns.heatmap(conf_mat, annot=True, cmap=\"Blues\", fmt='d',\n",
        "              xticklabels=products, \n",
        "              yticklabels=products)\n",
        "  plt.ylabel('Actual')\n",
        "  plt.xlabel('Predicted')\n",
        "  plt.title(\"CONFUSION MATRIX - LinearSVC\\n\", size=16);"
      ],
      "execution_count": 0,
      "outputs": []
    },
    {
      "cell_type": "code",
      "metadata": {
        "id": "aX8LcZ78vTcu",
        "colab_type": "code",
        "colab": {}
      },
      "source": [
        "finished_epoches = 0\n",
        "\n",
        "criterion = nn.CrossEntropyLoss()"
      ],
      "execution_count": 0,
      "outputs": []
    },
    {
      "cell_type": "code",
      "metadata": {
        "id": "NGW48HjY-OPZ",
        "colab_type": "code",
        "outputId": "ee4b6c07-8ed8-424a-f93e-c5a4655b47e6",
        "colab": {
          "base_uri": "https://localhost:8080/",
          "height": 972
        }
      },
      "source": [
        "for param in model.parameters():\n",
        "  param.requires_grad = True\n",
        "for param in model.bert.parameters():\n",
        "  param.requires_grad = False\n",
        "for param in model.bert.transformer.layer[-1].parameters():\n",
        "  param.requires_grad = True\n",
        "\n",
        "epochs = 2\n",
        "lr=2e-4\n",
        "\n",
        "optimizer = torch.optim.Adam(model.parameters(), lr=lr)\n",
        "scheduler_warmup = GradualWarmupScheduler(optimizer, multiplier=1.0, total_epoch=epochs, after_scheduler=None)\n",
        "train(dl_train, dl_val,scheduler_warmup, criterion, epochs, finished_epoches)\n",
        "\n",
        "finished_epoches += epochs"
      ],
      "execution_count": 0,
      "outputs": [
        {
          "output_type": "stream",
          "text": [
            "/usr/local/lib/python3.6/dist-packages/torch/optim/lr_scheduler.py:122: UserWarning: Detected call of `lr_scheduler.step()` before `optimizer.step()`. In PyTorch 1.1.0 and later, you should call them in the opposite order: `optimizer.step()` before `lr_scheduler.step()`.  Failure to do this will result in PyTorch skipping the first value of the learning rate schedule. See more details at https://pytorch.org/docs/stable/optim.html#how-to-adjust-learning-rate\n",
            "  \"https://pytorch.org/docs/stable/optim.html#how-to-adjust-learning-rate\", UserWarning)\n"
          ],
          "name": "stderr"
        },
        {
          "output_type": "stream",
          "text": [
            "2020-03-12 17:46:08.257244 Epoch 1/2: train loss=1.340511\n",
            "Loss: 1.0815643157277788\n",
            "                           precision    recall  f1-score   support\n",
            "\n",
            " MozillaClassic Graveyard       0.47      0.49      0.48        37\n",
            "                     Core       0.73      0.87      0.80      1108\n",
            "                     NSPR       0.39      0.32      0.35        28\n",
            "                SeaMonkey       0.42      0.37      0.39       294\n",
            "                    other       0.00      0.00      0.00         6\n",
            "Tech Evangelism Graveyard       0.00      0.00      0.00         4\n",
            "                 Bugzilla       0.54      0.35      0.42        40\n",
            "           Core Graveyard       0.56      0.06      0.12       231\n",
            "            MailNews Core       0.49      0.81      0.61       176\n",
            "       Webtools Graveyard       0.00      0.00      0.00        10\n",
            "                Directory       0.00      0.00      0.00        13\n",
            "     bugzilla.mozilla.org       0.00      0.00      0.00         8\n",
            "            CCK Graveyard       0.92      0.46      0.62        26\n",
            "        Grendel Graveyard       0.00      0.00      0.00         2\n",
            "                  Toolkit       0.00      0.00      0.00        10\n",
            "              mozilla.org       0.00      0.00      0.00         7\n",
            "\n",
            "                 accuracy                           0.64      2000\n",
            "                macro avg       0.28      0.23      0.24      2000\n",
            "             weighted avg       0.61      0.64      0.60      2000\n",
            "\n"
          ],
          "name": "stdout"
        },
        {
          "output_type": "stream",
          "text": [
            "/usr/local/lib/python3.6/dist-packages/sklearn/metrics/_classification.py:1272: UndefinedMetricWarning: Precision and F-score are ill-defined and being set to 0.0 in labels with no predicted samples. Use `zero_division` parameter to control this behavior.\n",
            "  _warn_prf(average, modifier, msg_start, len(result))\n"
          ],
          "name": "stderr"
        },
        {
          "output_type": "stream",
          "text": [
            "2020-03-12 17:49:45.368083 Epoch 2/2: train loss=1.001283\n",
            "Loss: 0.9675211622601464\n",
            "                           precision    recall  f1-score   support\n",
            "\n",
            " MozillaClassic Graveyard       0.50      0.49      0.49        37\n",
            "                     Core       0.71      0.95      0.81      1108\n",
            "                     NSPR       0.76      0.46      0.58        28\n",
            "                SeaMonkey       0.55      0.38      0.45       294\n",
            "                    other       0.00      0.00      0.00         6\n",
            "Tech Evangelism Graveyard       0.00      0.00      0.00         4\n",
            "                 Bugzilla       0.50      0.55      0.52        40\n",
            "           Core Graveyard       0.85      0.14      0.24       231\n",
            "            MailNews Core       0.73      0.55      0.63       176\n",
            "       Webtools Graveyard       0.00      0.00      0.00        10\n",
            "                Directory       0.75      0.23      0.35        13\n",
            "     bugzilla.mozilla.org       0.29      0.50      0.36         8\n",
            "            CCK Graveyard       0.78      0.81      0.79        26\n",
            "        Grendel Graveyard       0.00      0.00      0.00         2\n",
            "                  Toolkit       0.00      0.00      0.00        10\n",
            "              mozilla.org       0.00      0.00      0.00         7\n",
            "\n",
            "                 accuracy                           0.69      2000\n",
            "                macro avg       0.40      0.32      0.33      2000\n",
            "             weighted avg       0.68      0.69      0.64      2000\n",
            "\n",
            "model saved\n"
          ],
          "name": "stdout"
        }
      ]
    },
    {
      "cell_type": "code",
      "metadata": {
        "id": "M3wZvyV1_ECK",
        "colab_type": "code",
        "outputId": "ab7dbe55-1626-4cd9-eaf0-86f83da28fab",
        "colab": {
          "base_uri": "https://localhost:8080/",
          "height": 1000
        }
      },
      "source": [
        "for param in model.bert.parameters():\n",
        "  param.requires_grad = True\n",
        "\n",
        "epochs = 12\n",
        "lr=2e-4\n",
        "\n",
        "optimizer = torch.optim.Adam(model.parameters(), lr=lr)\n",
        "scheduler_cosine = torch.optim.lr_scheduler.CosineAnnealingLR(optimizer, 6)\n",
        "scheduler_warmup = GradualWarmupScheduler(optimizer, multiplier=1.0, total_epoch=6, after_scheduler=scheduler_cosine)\n",
        "train(dl_train, dl_val, scheduler_warmup, criterion, epochs, finished_epoches, acc_step=2)\n",
        "\n",
        "finished_epoches += epochs"
      ],
      "execution_count": 0,
      "outputs": [
        {
          "output_type": "stream",
          "text": [
            "/usr/local/lib/python3.6/dist-packages/torch/optim/lr_scheduler.py:122: UserWarning: Detected call of `lr_scheduler.step()` before `optimizer.step()`. In PyTorch 1.1.0 and later, you should call them in the opposite order: `optimizer.step()` before `lr_scheduler.step()`.  Failure to do this will result in PyTorch skipping the first value of the learning rate schedule. See more details at https://pytorch.org/docs/stable/optim.html#how-to-adjust-learning-rate\n",
            "  \"https://pytorch.org/docs/stable/optim.html#how-to-adjust-learning-rate\", UserWarning)\n"
          ],
          "name": "stderr"
        },
        {
          "output_type": "stream",
          "text": [
            "2020-03-12 17:56:53.007156 Epoch 3/14: train loss=0.784481\n",
            "Loss: 0.8194985010084652\n",
            "                           precision    recall  f1-score   support\n",
            "\n",
            " MozillaClassic Graveyard       0.56      0.51      0.54        37\n",
            "                     Core       0.79      0.89      0.83      1108\n",
            "                     NSPR       0.72      0.64      0.68        28\n",
            "                SeaMonkey       0.54      0.53      0.54       294\n",
            "                    other       0.00      0.00      0.00         6\n",
            "Tech Evangelism Graveyard       0.00      0.00      0.00         4\n",
            "                 Bugzilla       0.53      0.60      0.56        40\n",
            "           Core Graveyard       0.65      0.32      0.43       231\n",
            "            MailNews Core       0.69      0.78      0.73       176\n",
            "       Webtools Graveyard       0.00      0.00      0.00        10\n",
            "                Directory       0.67      0.31      0.42        13\n",
            "     bugzilla.mozilla.org       0.62      0.62      0.62         8\n",
            "            CCK Graveyard       0.83      0.73      0.78        26\n",
            "        Grendel Graveyard       0.00      0.00      0.00         2\n",
            "                  Toolkit       0.00      0.00      0.00        10\n",
            "              mozilla.org       0.00      0.00      0.00         7\n",
            "\n",
            "                 accuracy                           0.72      2000\n",
            "                macro avg       0.41      0.37      0.38      2000\n",
            "             weighted avg       0.70      0.72      0.70      2000\n",
            "\n"
          ],
          "name": "stdout"
        },
        {
          "output_type": "stream",
          "text": [
            "/usr/local/lib/python3.6/dist-packages/sklearn/metrics/_classification.py:1272: UndefinedMetricWarning: Precision and F-score are ill-defined and being set to 0.0 in labels with no predicted samples. Use `zero_division` parameter to control this behavior.\n",
            "  _warn_prf(average, modifier, msg_start, len(result))\n"
          ],
          "name": "stderr"
        },
        {
          "output_type": "stream",
          "text": [
            "2020-03-12 18:03:59.790084 Epoch 4/14: train loss=0.643361\n",
            "Loss: 0.8522331072461038\n",
            "                           precision    recall  f1-score   support\n",
            "\n",
            " MozillaClassic Graveyard       0.54      0.41      0.46        37\n",
            "                     Core       0.74      0.95      0.83      1108\n",
            "                     NSPR       0.68      0.68      0.68        28\n",
            "                SeaMonkey       0.60      0.40      0.48       294\n",
            "                    other       0.00      0.00      0.00         6\n",
            "Tech Evangelism Graveyard       0.00      0.00      0.00         4\n",
            "                 Bugzilla       0.77      0.50      0.61        40\n",
            "           Core Graveyard       0.73      0.30      0.43       231\n",
            "            MailNews Core       0.72      0.76      0.74       176\n",
            "       Webtools Graveyard       0.00      0.00      0.00        10\n",
            "                Directory       0.80      0.31      0.44        13\n",
            "     bugzilla.mozilla.org       0.80      0.50      0.62         8\n",
            "            CCK Graveyard       0.83      0.77      0.80        26\n",
            "        Grendel Graveyard       0.00      0.00      0.00         2\n",
            "                  Toolkit       0.00      0.00      0.00        10\n",
            "              mozilla.org       0.00      0.00      0.00         7\n",
            "\n",
            "                 accuracy                           0.73      2000\n",
            "                macro avg       0.45      0.35      0.38      2000\n",
            "             weighted avg       0.70      0.73      0.69      2000\n",
            "\n",
            "2020-03-12 18:11:07.634571 Epoch 5/14: train loss=0.527343\n",
            "Loss: 0.8166721956360907\n",
            "                           precision    recall  f1-score   support\n",
            "\n",
            " MozillaClassic Graveyard       0.59      0.51      0.55        37\n",
            "                     Core       0.82      0.89      0.85      1108\n",
            "                     NSPR       0.72      0.64      0.68        28\n",
            "                SeaMonkey       0.54      0.59      0.56       294\n",
            "                    other       0.00      0.00      0.00         6\n",
            "Tech Evangelism Graveyard       0.00      0.00      0.00         4\n",
            "                 Bugzilla       0.85      0.55      0.67        40\n",
            "           Core Graveyard       0.66      0.45      0.53       231\n",
            "            MailNews Core       0.71      0.78      0.74       176\n",
            "       Webtools Graveyard       0.60      0.30      0.40        10\n",
            "                Directory       0.78      0.54      0.64        13\n",
            "     bugzilla.mozilla.org       0.67      0.50      0.57         8\n",
            "            CCK Graveyard       0.78      0.81      0.79        26\n",
            "        Grendel Graveyard       0.00      0.00      0.00         2\n",
            "                  Toolkit       0.33      0.10      0.15        10\n",
            "              mozilla.org       1.00      0.29      0.44         7\n",
            "\n",
            "                 accuracy                           0.75      2000\n",
            "                macro avg       0.57      0.43      0.47      2000\n",
            "             weighted avg       0.74      0.75      0.74      2000\n",
            "\n",
            "2020-03-12 18:18:15.729294 Epoch 6/14: train loss=0.457072\n",
            "Loss: 0.8627420078430857\n",
            "                           precision    recall  f1-score   support\n",
            "\n",
            " MozillaClassic Graveyard       0.60      0.41      0.48        37\n",
            "                     Core       0.82      0.85      0.83      1108\n",
            "                     NSPR       0.71      0.54      0.61        28\n",
            "                SeaMonkey       0.62      0.46      0.53       294\n",
            "                    other       0.33      0.17      0.22         6\n",
            "Tech Evangelism Graveyard       1.00      0.75      0.86         4\n",
            "                 Bugzilla       0.71      0.62      0.67        40\n",
            "           Core Graveyard       0.44      0.55      0.49       231\n",
            "            MailNews Core       0.72      0.85      0.78       176\n",
            "       Webtools Graveyard       0.67      0.40      0.50        10\n",
            "                Directory       0.80      0.62      0.70        13\n",
            "     bugzilla.mozilla.org       0.75      0.75      0.75         8\n",
            "            CCK Graveyard       0.78      0.81      0.79        26\n",
            "        Grendel Graveyard       0.00      0.00      0.00         2\n",
            "                  Toolkit       0.75      0.30      0.43        10\n",
            "              mozilla.org       0.75      0.43      0.55         7\n",
            "\n",
            "                 accuracy                           0.73      2000\n",
            "                macro avg       0.65      0.53      0.57      2000\n",
            "             weighted avg       0.73      0.73      0.72      2000\n",
            "\n",
            "2020-03-12 18:25:23.606639 Epoch 7/14: train loss=0.433504\n",
            "Loss: 0.8987805077007839\n",
            "                           precision    recall  f1-score   support\n",
            "\n",
            " MozillaClassic Graveyard       0.57      0.54      0.56        37\n",
            "                     Core       0.83      0.88      0.85      1108\n",
            "                     NSPR       0.64      0.50      0.56        28\n",
            "                SeaMonkey       0.55      0.51      0.53       294\n",
            "                    other       0.33      0.17      0.22         6\n",
            "Tech Evangelism Graveyard       1.00      0.75      0.86         4\n",
            "                 Bugzilla       0.66      0.68      0.67        40\n",
            "           Core Graveyard       0.60      0.45      0.52       231\n",
            "            MailNews Core       0.75      0.75      0.75       176\n",
            "       Webtools Graveyard       0.27      0.80      0.40        10\n",
            "                Directory       0.71      0.77      0.74        13\n",
            "     bugzilla.mozilla.org       0.67      0.75      0.71         8\n",
            "            CCK Graveyard       0.54      0.85      0.66        26\n",
            "        Grendel Graveyard       0.00      0.00      0.00         2\n",
            "                  Toolkit       0.44      0.40      0.42        10\n",
            "              mozilla.org       0.50      0.14      0.22         7\n",
            "\n",
            "                 accuracy                           0.74      2000\n",
            "                macro avg       0.57      0.56      0.54      2000\n",
            "             weighted avg       0.73      0.74      0.73      2000\n",
            "\n",
            "2020-03-12 18:32:31.275173 Epoch 8/14: train loss=0.410102\n",
            "Loss: 0.9253997043484733\n",
            "                           precision    recall  f1-score   support\n",
            "\n",
            " MozillaClassic Graveyard       0.57      0.54      0.56        37\n",
            "                     Core       0.86      0.82      0.84      1108\n",
            "                     NSPR       0.79      0.39      0.52        28\n",
            "                SeaMonkey       0.45      0.70      0.55       294\n",
            "                    other       0.25      0.17      0.20         6\n",
            "Tech Evangelism Graveyard       1.00      1.00      1.00         4\n",
            "                 Bugzilla       0.78      0.62      0.69        40\n",
            "           Core Graveyard       0.57      0.50      0.53       231\n",
            "            MailNews Core       0.86      0.42      0.56       176\n",
            "       Webtools Graveyard       0.22      0.40      0.29        10\n",
            "                Directory       0.61      0.85      0.71        13\n",
            "     bugzilla.mozilla.org       1.00      0.50      0.67         8\n",
            "            CCK Graveyard       0.50      0.88      0.64        26\n",
            "        Grendel Graveyard       0.00      0.00      0.00         2\n",
            "                  Toolkit       0.25      0.60      0.35        10\n",
            "              mozilla.org       0.80      0.57      0.67         7\n",
            "\n",
            "                 accuracy                           0.71      2000\n",
            "                macro avg       0.59      0.56      0.55      2000\n",
            "             weighted avg       0.75      0.71      0.71      2000\n",
            "\n",
            "2020-03-12 18:39:38.893330 Epoch 9/14: train loss=0.304010\n",
            "Loss: 1.0321274885819072\n",
            "                           precision    recall  f1-score   support\n",
            "\n",
            " MozillaClassic Graveyard       0.65      0.46      0.54        37\n",
            "                     Core       0.80      0.88      0.84      1108\n",
            "                     NSPR       0.73      0.57      0.64        28\n",
            "                SeaMonkey       0.54      0.59      0.56       294\n",
            "                    other       1.00      0.17      0.29         6\n",
            "Tech Evangelism Graveyard       1.00      0.75      0.86         4\n",
            "                 Bugzilla       0.51      0.65      0.57        40\n",
            "           Core Graveyard       0.62      0.37      0.46       231\n",
            "            MailNews Core       0.79      0.71      0.75       176\n",
            "       Webtools Graveyard       0.50      0.50      0.50        10\n",
            "                Directory       1.00      0.46      0.63        13\n",
            "     bugzilla.mozilla.org       0.80      0.50      0.62         8\n",
            "            CCK Graveyard       0.92      0.85      0.88        26\n",
            "        Grendel Graveyard       0.00      0.00      0.00         2\n",
            "                  Toolkit       0.44      0.40      0.42        10\n",
            "              mozilla.org       0.00      0.00      0.00         7\n",
            "\n",
            "                 accuracy                           0.73      2000\n",
            "                macro avg       0.64      0.49      0.53      2000\n",
            "             weighted avg       0.73      0.73      0.72      2000\n",
            "\n",
            "2020-03-12 18:46:46.606377 Epoch 10/14: train loss=0.242536\n",
            "Loss: 1.1622404871242387\n",
            "                           precision    recall  f1-score   support\n",
            "\n",
            " MozillaClassic Graveyard       0.51      0.51      0.51        37\n",
            "                     Core       0.77      0.92      0.84      1108\n",
            "                     NSPR       0.59      0.79      0.68        28\n",
            "                SeaMonkey       0.73      0.35      0.47       294\n",
            "                    other       0.00      0.00      0.00         6\n",
            "Tech Evangelism Graveyard       0.75      0.75      0.75         4\n",
            "                 Bugzilla       0.61      0.50      0.55        40\n",
            "           Core Graveyard       0.63      0.38      0.47       231\n",
            "            MailNews Core       0.67      0.79      0.73       176\n",
            "       Webtools Graveyard       0.83      0.50      0.62        10\n",
            "                Directory       0.58      0.85      0.69        13\n",
            "     bugzilla.mozilla.org       0.75      0.38      0.50         8\n",
            "            CCK Graveyard       0.70      0.88      0.78        26\n",
            "        Grendel Graveyard       0.00      0.00      0.00         2\n",
            "                  Toolkit       0.67      0.80      0.73        10\n",
            "              mozilla.org       1.00      0.14      0.25         7\n",
            "\n",
            "                 accuracy                           0.73      2000\n",
            "                macro avg       0.61      0.53      0.54      2000\n",
            "             weighted avg       0.73      0.73      0.71      2000\n",
            "\n",
            "2020-03-12 18:53:53.945907 Epoch 11/14: train loss=0.130217\n",
            "Loss: 1.3973540326669103\n",
            "                           precision    recall  f1-score   support\n",
            "\n",
            " MozillaClassic Graveyard       0.47      0.38      0.42        37\n",
            "                     Core       0.78      0.94      0.85      1108\n",
            "                     NSPR       0.67      0.50      0.57        28\n",
            "                SeaMonkey       0.56      0.57      0.57       294\n",
            "                    other       0.00      0.00      0.00         6\n",
            "Tech Evangelism Graveyard       1.00      0.75      0.86         4\n",
            "                 Bugzilla       0.55      0.65      0.60        40\n",
            "           Core Graveyard       0.83      0.32      0.47       231\n",
            "            MailNews Core       0.85      0.58      0.69       176\n",
            "       Webtools Graveyard       0.67      0.60      0.63        10\n",
            "                Directory       0.75      0.69      0.72        13\n",
            "     bugzilla.mozilla.org       0.86      0.75      0.80         8\n",
            "            CCK Graveyard       0.88      0.88      0.88        26\n",
            "        Grendel Graveyard       0.00      0.00      0.00         2\n",
            "                  Toolkit       0.57      0.40      0.47        10\n",
            "              mozilla.org       0.67      0.29      0.40         7\n",
            "\n",
            "                 accuracy                           0.74      2000\n",
            "                macro avg       0.63      0.52      0.56      2000\n",
            "             weighted avg       0.75      0.74      0.73      2000\n",
            "\n",
            "2020-03-12 19:01:01.277342 Epoch 12/14: train loss=0.055947\n",
            "Loss: 1.3463559061998414\n",
            "                           precision    recall  f1-score   support\n",
            "\n",
            " MozillaClassic Graveyard       0.49      0.51      0.50        37\n",
            "                     Core       0.81      0.88      0.84      1108\n",
            "                     NSPR       0.71      0.54      0.61        28\n",
            "                SeaMonkey       0.53      0.62      0.57       294\n",
            "                    other       1.00      0.17      0.29         6\n",
            "Tech Evangelism Graveyard       0.80      1.00      0.89         4\n",
            "                 Bugzilla       0.70      0.65      0.68        40\n",
            "           Core Graveyard       0.55      0.43      0.49       231\n",
            "            MailNews Core       0.87      0.57      0.69       176\n",
            "       Webtools Graveyard       0.67      0.40      0.50        10\n",
            "                Directory       1.00      0.77      0.87        13\n",
            "     bugzilla.mozilla.org       1.00      0.75      0.86         8\n",
            "            CCK Graveyard       0.85      0.88      0.87        26\n",
            "        Grendel Graveyard       0.00      0.00      0.00         2\n",
            "                  Toolkit       0.71      0.50      0.59        10\n",
            "              mozilla.org       0.75      0.43      0.55         7\n",
            "\n",
            "                 accuracy                           0.73      2000\n",
            "                macro avg       0.72      0.57      0.61      2000\n",
            "             weighted avg       0.74      0.73      0.73      2000\n",
            "\n",
            "2020-03-12 19:08:09.307471 Epoch 13/14: train loss=0.021235\n",
            "Loss: 1.486926249804951\n",
            "                           precision    recall  f1-score   support\n",
            "\n",
            " MozillaClassic Graveyard       0.54      0.38      0.44        37\n",
            "                     Core       0.80      0.90      0.85      1108\n",
            "                     NSPR       0.67      0.57      0.62        28\n",
            "                SeaMonkey       0.61      0.54      0.57       294\n",
            "                    other       0.00      0.00      0.00         6\n",
            "Tech Evangelism Graveyard       0.75      0.75      0.75         4\n",
            "                 Bugzilla       0.63      0.65      0.64        40\n",
            "           Core Graveyard       0.57      0.46      0.51       231\n",
            "            MailNews Core       0.79      0.69      0.74       176\n",
            "       Webtools Graveyard       0.67      0.40      0.50        10\n",
            "                Directory       0.90      0.69      0.78        13\n",
            "     bugzilla.mozilla.org       0.88      0.88      0.88         8\n",
            "            CCK Graveyard       0.88      0.85      0.86        26\n",
            "        Grendel Graveyard       0.00      0.00      0.00         2\n",
            "                  Toolkit       0.67      0.40      0.50        10\n",
            "              mozilla.org       1.00      0.43      0.60         7\n",
            "\n",
            "                 accuracy                           0.75      2000\n",
            "                macro avg       0.65      0.54      0.58      2000\n",
            "             weighted avg       0.73      0.75      0.74      2000\n",
            "\n",
            "2020-03-12 19:15:17.305922 Epoch 14/14: train loss=0.009148\n",
            "Loss: 1.487509657939275\n",
            "                           precision    recall  f1-score   support\n",
            "\n",
            " MozillaClassic Graveyard       0.57      0.46      0.51        37\n",
            "                     Core       0.82      0.89      0.85      1108\n",
            "                     NSPR       0.65      0.61      0.63        28\n",
            "                SeaMonkey       0.59      0.54      0.56       294\n",
            "                    other       0.33      0.17      0.22         6\n",
            "Tech Evangelism Graveyard       0.80      1.00      0.89         4\n",
            "                 Bugzilla       0.64      0.68      0.66        40\n",
            "           Core Graveyard       0.55      0.46      0.50       231\n",
            "            MailNews Core       0.78      0.72      0.75       176\n",
            "       Webtools Graveyard       0.67      0.40      0.50        10\n",
            "                Directory       0.82      0.69      0.75        13\n",
            "     bugzilla.mozilla.org       1.00      0.88      0.93         8\n",
            "            CCK Graveyard       0.85      0.85      0.85        26\n",
            "        Grendel Graveyard       0.00      0.00      0.00         2\n",
            "                  Toolkit       0.57      0.40      0.47        10\n",
            "              mozilla.org       1.00      0.29      0.44         7\n",
            "\n",
            "                 accuracy                           0.75      2000\n",
            "                macro avg       0.66      0.56      0.59      2000\n",
            "             weighted avg       0.74      0.75      0.74      2000\n",
            "\n",
            "model saved\n"
          ],
          "name": "stdout"
        }
      ]
    },
    {
      "cell_type": "code",
      "metadata": {
        "id": "lW22ymCaGhvy",
        "colab_type": "code",
        "colab": {}
      },
      "source": [
        "if 0:\n",
        "  model_save_name = f'2020-03-11-21_BertClassifier_12.pth'\n",
        "  path = F\"/content/drive/My Drive/{model_save_name}\" \n",
        "  torch.save(model.state_dict(), path)"
      ],
      "execution_count": 0,
      "outputs": []
    },
    {
      "cell_type": "code",
      "metadata": {
        "id": "0gNVSJ53mXbQ",
        "colab_type": "code",
        "colab": {}
      },
      "source": [
        "# !cp /content/2020-03-12-19_BertClassifier_14.pth '/content/drive/My Drive/'"
      ],
      "execution_count": 0,
      "outputs": []
    },
    {
      "cell_type": "code",
      "metadata": {
        "id": "QKZo2K6eme1y",
        "colab_type": "code",
        "colab": {}
      },
      "source": [
        ""
      ],
      "execution_count": 0,
      "outputs": []
    }
  ]
}